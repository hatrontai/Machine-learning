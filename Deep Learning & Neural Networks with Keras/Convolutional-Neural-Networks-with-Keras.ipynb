{
 "cells": [
  {
   "cell_type": "markdown",
   "id": "6a259076-5a31-482e-b598-0138c6bfe11a",
   "metadata": {},
   "source": [
    "<a href=\"https://cognitiveclass.ai\"><img src=\"https://cf-courses-data.s3.us.cloud-object-storage.appdomain.cloud/IBMDeveloperSkillsNetwork-DL0101EN-SkillsNetwork/images/IDSN-logo.png\" width=\"400\"> </a>\n",
    "\n",
    "# Convolutional Neural Networks with Keras\n",
    "\n",
    "Estimated time needed **30** mins\n"
   ]
  },
  {
   "cell_type": "markdown",
   "id": "2a86cd7f-c191-4c78-92a5-2479b13cba2b",
   "metadata": {},
   "source": [
    "In this lab, we will learn how to use the Keras library to build convolutional neural networks. We will also use the popular MNIST dataset and we will compare our results to using a conventional neural network.\n"
   ]
  },
  {
   "cell_type": "markdown",
   "id": "a7c948e3-995c-45c0-86f0-8916fbee6b02",
   "metadata": {},
   "source": [
    "## Objectives for this Notebook    \n",
    "* How to use the Keras library to build convolutional neural networks\n",
    "* Convolutional neural network with one set of convolutional and pooling layers\n",
    "* Convolutional neural network with two sets of convolutional and pooling layers\n",
    "\n"
   ]
  },
  {
   "cell_type": "markdown",
   "id": "82e267c1-74e4-4f30-be50-15b58d592add",
   "metadata": {},
   "source": [
    "## Table of Contents\n",
    "\n",
    "<div class=\"alert alert-block alert-info\" style=\"margin-top: 20px\">\n",
    "\n",
    "<font size = 3>\n",
    "      \n",
    "1. <a href=\"#Import-Keras-and-Packages\">Import Keras and Packages</a>   \n",
    "2. <a href=\"#Convolutional-Neural-Network-with-One-Set-of-Convolutional-and-Pooling-Layers\">Convolutional Neural Network with One Set of Convolutional and Pooling Layers</a>  \n",
    "3. <a href=\"#Convolutional-Neural-Network-with-Two-Sets-of-Convolutional-and-Pooling-Layers\">Convolutional Neural Network with Two Sets of Convolutional and Pooling Layers</a>  \n",
    "\n",
    "</font>\n",
    "</div>\n"
   ]
  },
  {
   "cell_type": "markdown",
   "id": "a2725718-c839-403f-8017-236d760c20c0",
   "metadata": {},
   "source": [
    "### Install the necessary libraries\n"
   ]
  },
  {
   "cell_type": "markdown",
   "id": "5860a2ee-ec49-4add-ad79-556d6960495a",
   "metadata": {},
   "source": [
    "Let's start by installing the keras libraries and the packages that we would need to build a neural network.\n"
   ]
  },
  {
   "cell_type": "code",
   "execution_count": 5,
   "id": "dc5e450c-e81e-42b1-a564-7d59bd960067",
   "metadata": {},
   "outputs": [],
   "source": [
    "# All Libraries required for this lab are listed below. The libraries need to be installed on Skills Network Labs. \n",
    "# If you run this notebook on a different environment, e.g. your desktop, you may want to install these.\n",
    "# !pip install numpy==2.0.2\n",
    "# !pip install pandas==2.2.2\n",
    "# !pip install tensorflow_cpu==2.18.0\n",
    "# !pip install matplotlib==3.9.2\n",
    "# !pip install keras\n",
    "# !pip install tensorflow[and-cuda]==2.18.0\n"
   ]
  },
  {
   "cell_type": "code",
   "execution_count": 2,
   "metadata": {},
   "outputs": [
    {
     "name": "stdout",
     "output_type": "stream",
     "text": [
      "Sat Nov  1 11:11:14 2025       \n",
      "+-----------------------------------------------------------------------------------------+\n",
      "| NVIDIA-SMI 552.22                 Driver Version: 552.22         CUDA Version: 12.4     |\n",
      "|-----------------------------------------+------------------------+----------------------+\n",
      "| GPU  Name                     TCC/WDDM  | Bus-Id          Disp.A | Volatile Uncorr. ECC |\n",
      "| Fan  Temp   Perf          Pwr:Usage/Cap |           Memory-Usage | GPU-Util  Compute M. |\n",
      "|                                         |                        |               MIG M. |\n",
      "|=========================================+========================+======================|\n",
      "|   0  NVIDIA GeForce GTX 1650      WDDM  |   00000000:01:00.0 Off |                  N/A |\n",
      "| N/A   60C    P8              6W /   50W |       0MiB /   4096MiB |      0%      Default |\n",
      "|                                         |                        |                  N/A |\n",
      "+-----------------------------------------+------------------------+----------------------+\n",
      "                                                                                         \n",
      "+-----------------------------------------------------------------------------------------+\n",
      "| Processes:                                                                              |\n",
      "|  GPU   GI   CI        PID   Type   Process name                              GPU Memory |\n",
      "|        ID   ID                                                               Usage      |\n",
      "|=========================================================================================|\n",
      "|  No running processes found                                                             |\n",
      "+-----------------------------------------------------------------------------------------+\n"
     ]
    }
   ],
   "source": [
    "!nvidia-smi\n"
   ]
  },
  {
   "cell_type": "code",
   "execution_count": 1,
   "metadata": {},
   "outputs": [
    {
     "name": "stdout",
     "output_type": "stream",
     "text": [
      "TensorFlow version: 2.16.1\n",
      "Num GPUs Available: 0\n",
      "[]\n"
     ]
    }
   ],
   "source": [
    "import tensorflow as tf\n",
    "\n",
    "print(\"TensorFlow version:\", tf.__version__)\n",
    "print(\"Num GPUs Available:\", len(tf.config.list_physical_devices('GPU')))\n",
    "print(tf.config.list_physical_devices('GPU'))\n"
   ]
  },
  {
   "cell_type": "markdown",
   "id": "df48ab35-3ce3-4d73-9e9f-142c1c272773",
   "metadata": {},
   "source": [
    "#### Suppress the tensorflow warning messages\n",
    "We use the following code to  suppress the warning messages due to use of CPU architechture for tensoflow.\n",
    "You may want to **comment out** these lines if you are using the GPU architechture\n"
   ]
  },
  {
   "cell_type": "code",
   "execution_count": 2,
   "id": "c4d79a7c-6cbc-4b7c-8f6e-23c4d3dbec4f",
   "metadata": {},
   "outputs": [],
   "source": [
    "import os\n",
    "os.environ['TF_ENABLE_ONEDNN_OPTS'] = '0'\n",
    "os.environ['TF_CPP_MIN_LOG_LEVEL'] = '2'"
   ]
  },
  {
   "cell_type": "markdown",
   "id": "c8cb5959-7529-4024-aabe-711e02b1a573",
   "metadata": {},
   "source": [
    "## Import Keras and Packages\n"
   ]
  },
  {
   "cell_type": "code",
   "execution_count": 6,
   "id": "54f7f5de-dd4f-4160-97a7-41fc13358596",
   "metadata": {},
   "outputs": [],
   "source": [
    "import keras\n",
    "from keras.models import Sequential\n",
    "from keras.layers import Dense\n",
    "from keras.layers import Input\n",
    "from keras.utils import to_categorical"
   ]
  },
  {
   "cell_type": "markdown",
   "id": "6ae6ee1f-c5f9-4136-a661-d0ecad7bc618",
   "metadata": {},
   "source": [
    "When working with convolutional neural networks in particular, we will need additional packages.\n"
   ]
  },
  {
   "cell_type": "code",
   "execution_count": 7,
   "id": "59965020-f741-41d0-8b70-00253641ff4c",
   "metadata": {},
   "outputs": [],
   "source": [
    "from keras.layers import Conv2D # to add convolutional layers\n",
    "from keras.layers import MaxPooling2D # to add pooling layers\n",
    "from keras.layers import Flatten # to flatten data for fully connected layers"
   ]
  },
  {
   "cell_type": "markdown",
   "id": "b4be0cd5-9e2a-44f7-a6de-1fdc46923fb4",
   "metadata": {},
   "source": [
    "## Convolutional Neural Network with One Set of Convolutional and Pooling Layers\n"
   ]
  },
  {
   "cell_type": "code",
   "execution_count": 8,
   "id": "21cd5320-20a6-4e90-89be-81af7990a4c5",
   "metadata": {},
   "outputs": [
    {
     "name": "stdout",
     "output_type": "stream",
     "text": [
      "(60000, 28, 28) (60000,)\n",
      "(60000, 28, 28, 1)\n"
     ]
    }
   ],
   "source": [
    "# import data\n",
    "from keras.datasets import mnist\n",
    "\n",
    "# load data\n",
    "(X_train, y_train), (X_test, y_test) = mnist.load_data()\n",
    "print(X_train.shape, y_train.shape)\n",
    "\n",
    "# reshape to be [samples][pixels][width][height]\n",
    "X_train = X_train.reshape(X_train.shape[0], 28, 28, 1).astype('float32')\n",
    "X_test = X_test.reshape(X_test.shape[0], 28, 28, 1).astype('float32')\n",
    "\n",
    "# check shape\n",
    "print(X_train.shape)"
   ]
  },
  {
   "cell_type": "code",
   "execution_count": 9,
   "metadata": {},
   "outputs": [
    {
     "data": {
      "image/png": "[encoded data removed]",
      "text/plain": [
       "<Figure size 640x480 with 1 Axes>"
      ]
     },
     "metadata": {},
     "output_type": "display_data"
    }
   ],
   "source": [
    "import matplotlib.pyplot as plt\n",
    "\n",
    "plt.imshow(X_train[0])\n",
    "plt.show()"
   ]
  },
  {
   "cell_type": "markdown",
   "id": "82a804cb-2ea6-4925-94a1-ef4ba5a2ef1d",
   "metadata": {},
   "source": [
    "Let's normalize the pixel values to be between 0 and 1\n"
   ]
  },
  {
   "cell_type": "code",
   "execution_count": 10,
   "id": "26b2fc47-fbfb-42ce-bfe7-d1cda99d4988",
   "metadata": {},
   "outputs": [],
   "source": [
    "X_train = X_train / 255 # normalize training data\n",
    "X_test = X_test / 255 # normalize test data"
   ]
  },
  {
   "cell_type": "markdown",
   "id": "58622fd9-b0ff-408c-baf5-4db94f8a0a97",
   "metadata": {},
   "source": [
    "Next, let's convert the target variable into binary categories\n"
   ]
  },
  {
   "cell_type": "code",
   "execution_count": 11,
   "id": "c01c40ef-75ba-4c87-954a-4f5ecef7b41f",
   "metadata": {},
   "outputs": [
    {
     "data": {
      "text/plain": [
       "(10, array([0., 0., 0., 0., 0., 1., 0., 0., 0., 0.]))"
      ]
     },
     "execution_count": 11,
     "metadata": {},
     "output_type": "execute_result"
    }
   ],
   "source": [
    "y_train = to_categorical(y_train)\n",
    "y_test = to_categorical(y_test)\n",
    "\n",
    "num_classes = y_test.shape[1] # number of categories\n",
    "num_classes, y_train[0]"
   ]
  },
  {
   "cell_type": "markdown",
   "id": "2c42c05a-ae9e-44bc-ab58-5b5c55c6cc43",
   "metadata": {},
   "source": [
    "Next, let's define a function that creates our model. Let's start with one set of convolutional and pooling layers.\n"
   ]
  },
  {
   "cell_type": "code",
   "execution_count": 12,
   "id": "678716df-28c6-4944-872b-2ab253d7ea68",
   "metadata": {},
   "outputs": [],
   "source": [
    "def convolutional_model():\n",
    "    \n",
    "    # create model\n",
    "    model = Sequential()\n",
    "    model.add(Input(shape=(28, 28, 1)))\n",
    "    model.add(Conv2D(16, (5, 5), strides=(1, 1), activation='relu')) # 16 5x5 kernels => 16 feature maps (24x24x16)\n",
    "    model.add(MaxPooling2D(pool_size=(2, 2), strides=(2, 2))) # 16 feature maps => 8 feature maps\n",
    "    \n",
    "    model.add(Flatten()) # covnert to 1D array\n",
    "    model.add(Dense(100, activation='relu')) \n",
    "    model.add(Dense(num_classes, activation='softmax')) # output layer 10 number of classes\n",
    "    \n",
    "    # compile model\n",
    "    model.compile(optimizer='adam', loss='categorical_crossentropy',  metrics=['accuracy'])\n",
    "    return model"
   ]
  },
  {
   "cell_type": "markdown",
   "id": "d94c41fa-0fae-482c-b4f5-0729d31569c2",
   "metadata": {},
   "source": [
    "Finally, let's call the function to create the model, and then let's train it and evaluate it.\n"
   ]
  },
  {
   "cell_type": "code",
   "execution_count": 13,
   "id": "095aa859-c641-4d6d-abb6-a1712a64f89b",
   "metadata": {},
   "outputs": [
    {
     "name": "stdout",
     "output_type": "stream",
     "text": [
      "Epoch 1/10\n",
      "300/300 - 5s - 17ms/step - accuracy: 0.9217 - loss: 0.2805 - val_accuracy: 0.9697 - val_loss: 0.1022\n",
      "Epoch 2/10\n",
      "300/300 - 4s - 13ms/step - accuracy: 0.9766 - loss: 0.0812 - val_accuracy: 0.9811 - val_loss: 0.0577\n",
      "Epoch 3/10\n",
      "300/300 - 4s - 12ms/step - accuracy: 0.9836 - loss: 0.0559 - val_accuracy: 0.9839 - val_loss: 0.0480\n",
      "Epoch 4/10\n",
      "300/300 - 4s - 12ms/step - accuracy: 0.9866 - loss: 0.0446 - val_accuracy: 0.9869 - val_loss: 0.0417\n",
      "Epoch 5/10\n",
      "300/300 - 4s - 12ms/step - accuracy: 0.9891 - loss: 0.0357 - val_accuracy: 0.9872 - val_loss: 0.0414\n",
      "Epoch 6/10\n",
      "300/300 - 4s - 15ms/step - accuracy: 0.9914 - loss: 0.0291 - val_accuracy: 0.9884 - val_loss: 0.0370\n",
      "Epoch 7/10\n",
      "300/300 - 4s - 13ms/step - accuracy: 0.9919 - loss: 0.0256 - val_accuracy: 0.9869 - val_loss: 0.0387\n",
      "Epoch 8/10\n",
      "300/300 - 4s - 12ms/step - accuracy: 0.9935 - loss: 0.0215 - val_accuracy: 0.9896 - val_loss: 0.0344\n",
      "Epoch 9/10\n",
      "300/300 - 3s - 11ms/step - accuracy: 0.9947 - loss: 0.0173 - val_accuracy: 0.9892 - val_loss: 0.0343\n",
      "Epoch 10/10\n",
      "300/300 - 3s - 11ms/step - accuracy: 0.9958 - loss: 0.0146 - val_accuracy: 0.9899 - val_loss: 0.0325\n",
      "Accuracy: 0.9898999929428101 \n",
      " Error: 1.0100007057189941\n"
     ]
    }
   ],
   "source": [
    "# build the model\n",
    "model = convolutional_model()\n",
    "\n",
    "# fit the model\n",
    "model.fit(X_train, y_train, validation_data=(X_test, y_test), epochs=10, batch_size=200, verbose=2)\n",
    "\n",
    "# evaluate the model\n",
    "scores = model.evaluate(X_test, y_test, verbose=0)\n",
    "print(\"Accuracy: {} \\n Error: {}\".format(scores[1], 100-scores[1]*100))"
   ]
  },
  {
   "cell_type": "markdown",
   "id": "bdadb672-3dd5-47c8-b2aa-b573faec12ab",
   "metadata": {},
   "source": [
    "------------------------------------------\n"
   ]
  },
  {
   "cell_type": "markdown",
   "id": "8346bc8d-b06d-4e59-ab6d-38ab51f7e3a2",
   "metadata": {},
   "source": [
    "## Convolutional Neural Network with Two Sets of Convolutional and Pooling Layers\n"
   ]
  },
  {
   "cell_type": "markdown",
   "id": "ed6adec1-b389-4d45-a94b-c3f378106a02",
   "metadata": {},
   "source": [
    "Let's redefine our convolutional model so that it has two convolutional and pooling layers instead of just one layer of each.\n"
   ]
  },
  {
   "cell_type": "code",
   "execution_count": 14,
   "id": "1238bc6e-7594-48f2-b239-83fd36c4838d",
   "metadata": {},
   "outputs": [],
   "source": [
    "def convolutional_model():\n",
    "    \n",
    "    # create model\n",
    "    model = Sequential()\n",
    "    model.add(Input(shape=(28, 28, 1)))\n",
    "    model.add(Conv2D(16, (5, 5), activation='relu'))\n",
    "    model.add(MaxPooling2D(pool_size=(2, 2), strides=(2, 2)))\n",
    "    \n",
    "    model.add(Conv2D(8, (2, 2), activation='relu'))\n",
    "    model.add(MaxPooling2D(pool_size=(2, 2), strides=(2, 2)))\n",
    "    \n",
    "    model.add(Flatten())\n",
    "    model.add(Dense(100, activation='relu'))\n",
    "    model.add(Dense(num_classes, activation='softmax'))\n",
    "    \n",
    "    # Compile model\n",
    "    model.compile(optimizer='adam', loss='categorical_crossentropy',  metrics=['accuracy'])\n",
    "    return model"
   ]
  },
  {
   "cell_type": "markdown",
   "id": "ad1e634f-0a4a-475b-95da-b6e322a83c46",
   "metadata": {},
   "source": [
    "Now, let's call the function to create our new convolutional neural network, and then let's train it and evaluate it.\n"
   ]
  },
  {
   "cell_type": "code",
   "execution_count": 15,
   "id": "3c0465aa-295a-49e7-92bb-050edb59e3df",
   "metadata": {},
   "outputs": [
    {
     "name": "stdout",
     "output_type": "stream",
     "text": [
      "Epoch 1/10\n",
      "300/300 - 5s - 16ms/step - accuracy: 0.8535 - loss: 0.5168 - val_accuracy: 0.9531 - val_loss: 0.1548\n",
      "Epoch 2/10\n",
      "300/300 - 3s - 11ms/step - accuracy: 0.9632 - loss: 0.1245 - val_accuracy: 0.9749 - val_loss: 0.0816\n",
      "Epoch 3/10\n",
      "300/300 - 3s - 11ms/step - accuracy: 0.9729 - loss: 0.0879 - val_accuracy: 0.9765 - val_loss: 0.0748\n",
      "Epoch 4/10\n",
      "300/300 - 3s - 11ms/step - accuracy: 0.9785 - loss: 0.0724 - val_accuracy: 0.9818 - val_loss: 0.0585\n",
      "Epoch 5/10\n",
      "300/300 - 3s - 11ms/step - accuracy: 0.9810 - loss: 0.0621 - val_accuracy: 0.9838 - val_loss: 0.0525\n",
      "Epoch 6/10\n",
      "300/300 - 3s - 11ms/step - accuracy: 0.9826 - loss: 0.0554 - val_accuracy: 0.9845 - val_loss: 0.0530\n",
      "Epoch 7/10\n",
      "300/300 - 3s - 11ms/step - accuracy: 0.9841 - loss: 0.0505 - val_accuracy: 0.9867 - val_loss: 0.0452\n",
      "Epoch 8/10\n",
      "300/300 - 4s - 12ms/step - accuracy: 0.9856 - loss: 0.0447 - val_accuracy: 0.9843 - val_loss: 0.0425\n",
      "Epoch 9/10\n",
      "300/300 - 3s - 12ms/step - accuracy: 0.9874 - loss: 0.0409 - val_accuracy: 0.9870 - val_loss: 0.0404\n",
      "Epoch 10/10\n",
      "300/300 - 4s - 13ms/step - accuracy: 0.9885 - loss: 0.0380 - val_accuracy: 0.9876 - val_loss: 0.0382\n",
      "Accuracy: 0.9876000285148621 \n",
      " Error: 1.239997148513794\n"
     ]
    }
   ],
   "source": [
    "# build the model\n",
    "model = convolutional_model()\n",
    "\n",
    "# fit the model\n",
    "model.fit(X_train, y_train, validation_data=(X_test, y_test), epochs=10, batch_size=200, verbose=2)\n",
    "\n",
    "# evaluate the model\n",
    "scores = model.evaluate(X_test, y_test, verbose=0)\n",
    "print(\"Accuracy: {} \\n Error: {}\".format(scores[1], 100-scores[1]*100))"
   ]
  },
  {
   "cell_type": "markdown",
   "id": "1461351b-e85e-431a-94f7-7a803ad091f0",
   "metadata": {},
   "source": [
    "<h3>Practice Exercise 1</h3>\n"
   ]
  },
  {
   "cell_type": "markdown",
   "id": "b552fc94-0831-4569-bc0e-c5b9b153b70d",
   "metadata": {},
   "source": [
    "Let's see how batch size affects the time required and accuracy of the model training. \n",
    "For this, you can try to change batch_size to 1024 and check it's effect on accuracy\n"
   ]
  },
  {
   "cell_type": "code",
   "execution_count": 16,
   "id": "f01355d9-0484-4b16-8419-fd6e64640806",
   "metadata": {},
   "outputs": [
    {
     "name": "stdout",
     "output_type": "stream",
     "text": [
      "Epoch 1/10\n",
      "59/59 - 4s - 71ms/step - accuracy: 0.6443 - loss: 1.2489 - val_accuracy: 0.8933 - val_loss: 0.3712\n",
      "Epoch 2/10\n",
      "59/59 - 3s - 43ms/step - accuracy: 0.9215 - loss: 0.2741 - val_accuracy: 0.9456 - val_loss: 0.1914\n",
      "Epoch 3/10\n",
      "59/59 - 3s - 44ms/step - accuracy: 0.9495 - loss: 0.1717 - val_accuracy: 0.9623 - val_loss: 0.1307\n",
      "Epoch 4/10\n",
      "59/59 - 3s - 46ms/step - accuracy: 0.9612 - loss: 0.1321 - val_accuracy: 0.9685 - val_loss: 0.1111\n",
      "Epoch 5/10\n",
      "59/59 - 3s - 46ms/step - accuracy: 0.9669 - loss: 0.1102 - val_accuracy: 0.9727 - val_loss: 0.0926\n",
      "Epoch 6/10\n",
      "59/59 - 3s - 44ms/step - accuracy: 0.9704 - loss: 0.0984 - val_accuracy: 0.9752 - val_loss: 0.0810\n",
      "Epoch 7/10\n",
      "59/59 - 3s - 46ms/step - accuracy: 0.9742 - loss: 0.0867 - val_accuracy: 0.9773 - val_loss: 0.0740\n",
      "Epoch 8/10\n",
      "59/59 - 3s - 49ms/step - accuracy: 0.9764 - loss: 0.0785 - val_accuracy: 0.9805 - val_loss: 0.0658\n",
      "Epoch 9/10\n",
      "59/59 - 3s - 48ms/step - accuracy: 0.9776 - loss: 0.0740 - val_accuracy: 0.9741 - val_loss: 0.0760\n",
      "Epoch 10/10\n",
      "59/59 - 3s - 48ms/step - accuracy: 0.9780 - loss: 0.0719 - val_accuracy: 0.9810 - val_loss: 0.0650\n",
      "Accuracy: 0.9810000061988831 \n",
      " Error: 1.8999993801116943\n"
     ]
    }
   ],
   "source": [
    "# Write your answer here\n",
    "# build the model\n",
    "model = convolutional_model()\n",
    "\n",
    "# fit the model\n",
    "model.fit(X_train, y_train, validation_data=(X_test, y_test), epochs=10, batch_size=1024, verbose=2)\n",
    "\n",
    "# evaluate the model\n",
    "scores = model.evaluate(X_test, y_test, verbose=0)\n",
    "print(\"Accuracy: {} \\n Error: {}\".format(scores[1], 100-scores[1]*100))\n"
   ]
  },
  {
   "cell_type": "markdown",
   "id": "5bb6cc35-d6d9-4d82-97ff-44f59a729e0f",
   "metadata": {},
   "source": [
    "Double-click <b>here</b> for the solution.\n",
    "\n",
    "<!-- Your answer is below:\n",
    "# build the model\n",
    "model = convolutional_model()\n",
    "\n",
    "# fit the model\n",
    "model.fit(X_train, y_train, validation_data=(X_test, y_test), epochs=10, batch_size=1024, verbose=2)\n",
    "\n",
    "# evaluate the model\n",
    "scores = model.evaluate(X_test, y_test, verbose=0)\n",
    "print(\"Accuracy: {} \\n Error: {}\".format(scores[1], 100-scores[1]*100))\n",
    "-->\n"
   ]
  },
  {
   "cell_type": "markdown",
   "id": "2a03ad9b-825d-47ae-be77-e3bf1885c08e",
   "metadata": {},
   "source": [
    "<h3>Practice Exercise 2</h3>\n"
   ]
  },
  {
   "cell_type": "markdown",
   "id": "5989a3e9-0d9c-4769-a33d-fc22447a82bd",
   "metadata": {},
   "source": [
    "Now, let's see how number of epochs  affect the time required and accuracy of the model training. \n",
    "For this, you can keep the batch_size=1024 and epochs=25 and check it's effect on accuracy\n"
   ]
  },
  {
   "cell_type": "code",
   "execution_count": 17,
   "id": "f9e95cec-0929-4e21-82f2-88b829c59460",
   "metadata": {},
   "outputs": [
    {
     "name": "stdout",
     "output_type": "stream",
     "text": [
      "Epoch 1/25\n",
      "59/59 - 4s - 70ms/step - accuracy: 0.6631 - loss: 1.2873 - val_accuracy: 0.8767 - val_loss: 0.4183\n",
      "Epoch 2/25\n",
      "59/59 - 3s - 58ms/step - accuracy: 0.9028 - loss: 0.3271 - val_accuracy: 0.9333 - val_loss: 0.2320\n",
      "Epoch 3/25\n",
      "59/59 - 3s - 50ms/step - accuracy: 0.9389 - loss: 0.2068 - val_accuracy: 0.9542 - val_loss: 0.1575\n",
      "Epoch 4/25\n",
      "59/59 - 3s - 43ms/step - accuracy: 0.9553 - loss: 0.1515 - val_accuracy: 0.9664 - val_loss: 0.1176\n",
      "Epoch 5/25\n",
      "59/59 - 3s - 52ms/step - accuracy: 0.9636 - loss: 0.1208 - val_accuracy: 0.9710 - val_loss: 0.0976\n",
      "Epoch 6/25\n",
      "59/59 - 2s - 42ms/step - accuracy: 0.9682 - loss: 0.1030 - val_accuracy: 0.9752 - val_loss: 0.0867\n",
      "Epoch 7/25\n",
      "59/59 - 3s - 45ms/step - accuracy: 0.9721 - loss: 0.0906 - val_accuracy: 0.9768 - val_loss: 0.0748\n",
      "Epoch 8/25\n",
      "59/59 - 2s - 39ms/step - accuracy: 0.9750 - loss: 0.0817 - val_accuracy: 0.9796 - val_loss: 0.0664\n",
      "Epoch 9/25\n",
      "59/59 - 3s - 44ms/step - accuracy: 0.9772 - loss: 0.0746 - val_accuracy: 0.9823 - val_loss: 0.0602\n",
      "Epoch 10/25\n",
      "59/59 - 3s - 49ms/step - accuracy: 0.9793 - loss: 0.0690 - val_accuracy: 0.9814 - val_loss: 0.0586\n",
      "Epoch 11/25\n",
      "59/59 - 3s - 43ms/step - accuracy: 0.9807 - loss: 0.0628 - val_accuracy: 0.9828 - val_loss: 0.0537\n",
      "Epoch 12/25\n",
      "59/59 - 3s - 50ms/step - accuracy: 0.9818 - loss: 0.0598 - val_accuracy: 0.9839 - val_loss: 0.0534\n",
      "Epoch 13/25\n",
      "59/59 - 2s - 41ms/step - accuracy: 0.9832 - loss: 0.0565 - val_accuracy: 0.9835 - val_loss: 0.0507\n",
      "Epoch 14/25\n",
      "59/59 - 2s - 40ms/step - accuracy: 0.9831 - loss: 0.0540 - val_accuracy: 0.9831 - val_loss: 0.0488\n",
      "Epoch 15/25\n",
      "59/59 - 2s - 40ms/step - accuracy: 0.9848 - loss: 0.0507 - val_accuracy: 0.9847 - val_loss: 0.0452\n",
      "Epoch 16/25\n",
      "59/59 - 3s - 43ms/step - accuracy: 0.9858 - loss: 0.0481 - val_accuracy: 0.9852 - val_loss: 0.0451\n",
      "Epoch 17/25\n",
      "59/59 - 2s - 39ms/step - accuracy: 0.9854 - loss: 0.0484 - val_accuracy: 0.9848 - val_loss: 0.0460\n",
      "Epoch 18/25\n",
      "59/59 - 2s - 39ms/step - accuracy: 0.9868 - loss: 0.0438 - val_accuracy: 0.9850 - val_loss: 0.0453\n",
      "Epoch 19/25\n",
      "59/59 - 2s - 39ms/step - accuracy: 0.9868 - loss: 0.0429 - val_accuracy: 0.9853 - val_loss: 0.0447\n",
      "Epoch 20/25\n",
      "59/59 - 3s - 43ms/step - accuracy: 0.9878 - loss: 0.0410 - val_accuracy: 0.9863 - val_loss: 0.0427\n",
      "Epoch 21/25\n",
      "59/59 - 2s - 39ms/step - accuracy: 0.9883 - loss: 0.0401 - val_accuracy: 0.9848 - val_loss: 0.0426\n",
      "Epoch 22/25\n",
      "59/59 - 2s - 39ms/step - accuracy: 0.9884 - loss: 0.0383 - val_accuracy: 0.9868 - val_loss: 0.0408\n",
      "Epoch 23/25\n",
      "59/59 - 2s - 41ms/step - accuracy: 0.9894 - loss: 0.0358 - val_accuracy: 0.9871 - val_loss: 0.0392\n",
      "Epoch 24/25\n",
      "59/59 - 2s - 41ms/step - accuracy: 0.9894 - loss: 0.0357 - val_accuracy: 0.9861 - val_loss: 0.0402\n",
      "Epoch 25/25\n",
      "59/59 - 2s - 42ms/step - accuracy: 0.9898 - loss: 0.0338 - val_accuracy: 0.9866 - val_loss: 0.0392\n",
      "Accuracy: 0.9865999817848206 \n",
      " Error: 1.3400018215179443\n"
     ]
    }
   ],
   "source": [
    "# Write your answer here\n",
    "# build the model\n",
    "model = convolutional_model()\n",
    "\n",
    "# fit the model\n",
    "model.fit(X_train, y_train, validation_data=(X_test, y_test), epochs=25, batch_size=1024, verbose=2)\n",
    "\n",
    "# evaluate the model\n",
    "scores = model.evaluate(X_test, y_test, verbose=0)\n",
    "print(\"Accuracy: {} \\n Error: {}\".format(scores[1], 100-scores[1]*100))\n"
   ]
  },
  {
   "cell_type": "markdown",
   "id": "51c6e6da-7d0d-4090-9fb8-98f22d051bdb",
   "metadata": {},
   "source": [
    "Double-click <b>here</b> for the solution.\n",
    "\n",
    "<!-- Your answer is below:\n",
    "# build the model\n",
    "model = convolutional_model()\n",
    "\n",
    "# fit the model\n",
    "model.fit(X_train, y_train, validation_data=(X_test, y_test), epochs=25, batch_size=1024, verbose=2)\n",
    "\n",
    "# evaluate the model\n",
    "scores = model.evaluate(X_test, y_test, verbose=0)\n",
    "print(\"Accuracy: {} \\n Error: {}\".format(scores[1], 100-scores[1]*100))\n",
    "\n",
    "\n",
    "    -->\n"
   ]
  },
  {
   "cell_type": "markdown",
   "id": "844cc9d3-9e42-433a-9767-c03f0c1eb77d",
   "metadata": {},
   "source": [
    "### Thank you for completing this lab!\n",
    "\n",
    "This notebook was created by [Alex Aklson](https://www.linkedin.com/in/aklson/). I hope you found this lab interesting and educational. Feel free to contact me if you have any questions!\n"
   ]
  },
  {
   "cell_type": "markdown",
   "id": "5e3e2e36-9537-40c4-80bc-24e056e0b3c0",
   "metadata": {},
   "source": [
    "<!--\n",
    "## Change Log\n",
    "\n",
    "|  Date (YYYY-MM-DD) |  Version | Changed By  |  Change Description |\n",
    "|---|---|---|---|\n",
    "| 2024-11-20  | 3.0  | Aman  |  Updated the library versions to current |\n",
    "| 2020-09-21  | 2.0  | Srishti  |  Migrated Lab to Markdown and added to course repo in GitLab |\n",
    "\n",
    "\n",
    "\n",
    "<hr>\n",
    "\n",
    "## <h3 align=\"center\"> © IBM Corporation. All rights reserved. <h3/>\n"
   ]
  },
  {
   "cell_type": "markdown",
   "id": "ab20d78f-6c72-4aad-b35d-e2e770c39d5e",
   "metadata": {},
   "source": [
    "## <h3 align=\"center\"> &#169; IBM Corporation. All rights reserved. <h3/>\n",
    "\n"
   ]
  }
 ],
 "metadata": {
  "kernelspec": {
   "display_name": "pytorch",
   "language": "python",
   "name": "python3"
  },
  "language_info": {
   "codemirror_mode": {
    "name": "ipython",
    "version": 3
   },
   "file_extension": ".py",
   "mimetype": "text/x-python",
   "name": "python",
   "nbconvert_exporter": "python",
   "pygments_lexer": "ipython3",
   "version": "3.10.16"
  },
  "prev_pub_hash": "cf25684b5f40b85f8cce20a89cf822f405779387881f3fd281fbe1317debe407"
 },
 "nbformat": 4,
 "nbformat_minor": 4
}
