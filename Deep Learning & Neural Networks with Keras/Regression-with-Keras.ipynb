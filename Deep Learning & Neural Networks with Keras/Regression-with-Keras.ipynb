{
 "cells": [
  {
   "cell_type": "markdown",
   "metadata": {},
   "source": [
    "<a href=\"https://cognitiveclass.ai\"><img src=\"https://cf-courses-data.s3.us.cloud-object-storage.appdomain.cloud/IBMDeveloperSkillsNetwork-DL0101EN-SkillsNetwork/images/IDSN-logo.png\" width=\"400\"> </a>\n",
    "\n",
    "# Regression Models with Keras\n",
    "\n",
    "Estimated time needed: **45** mins\n"
   ]
  },
  {
   "cell_type": "markdown",
   "metadata": {},
   "source": [
    "## Introduction\n"
   ]
  },
  {
   "cell_type": "markdown",
   "metadata": {},
   "source": [
    "As we discussed in the videos, despite the popularity of more powerful libraries such as PyToch and TensorFlow, they are not easy to use and have a steep learning curve. So, for people who are just starting to learn deep learning, there is no better library to use other than the Keras library. \n",
    "\n",
    "Keras is a high-level API for building deep learning models. It has gained favor for its ease of use and syntactic simplicity facilitating fast development. As you will see in this lab and the other labs in this course, building a very complex deep learning network can be achieved with Keras with only few lines of code. You will appreciate Keras even more, once you learn how to build deep models using PyTorch and TensorFlow in the other courses.\n",
    "\n",
    "So, in this lab, you will learn how to use the Keras library to build a regression model.\n"
   ]
  },
  {
   "cell_type": "markdown",
   "metadata": {},
   "source": [
    "## Objectives for this Notebook    \n",
    "* How to use the Keras library to build a regression model\n",
    "* Download and clean the data set\n",
    "* Build a neural network\n",
    "* Train and test the network     \n",
    "\n"
   ]
  },
  {
   "cell_type": "markdown",
   "metadata": {},
   "source": [
    "## Table of Contents\n",
    "\n",
    "<div class=\"alert alert-block alert-info\" style=\"margin-top: 20px\">\n",
    "\n",
    "<font size = 3>\n",
    "    \n",
    "1. <a href=\"#item31\">Download and Clean the Data Set</a>  \n",
    "2. <a href=\"#item32\">Import Keras Packages</a>\n",
    "3. <a href=\"#item33\">Build a Neural Network</a>\n",
    "4. <a href=\"#item34\">Train and Test the Network</a>  \n",
    "\n",
    "</font>\n",
    "</div>\n"
   ]
  },
  {
   "cell_type": "markdown",
   "metadata": {},
   "source": [
    "<a id=\"item31\"></a>\n"
   ]
  },
  {
   "cell_type": "markdown",
   "metadata": {},
   "source": [
    "## Download and Clean the  Data Set\n"
   ]
  },
  {
   "cell_type": "markdown",
   "metadata": {},
   "source": [
    "Let's start by importing the <em>pandas</em> and the Numpy libraries.\n"
   ]
  },
  {
   "cell_type": "code",
   "execution_count": 5,
   "metadata": {},
   "outputs": [],
   "source": [
    "# All Libraries required for this lab are listed below. \n",
    "\n",
    "# !pip install numpy==2.0.2\n",
    "# !pip install pandas==2.2.2\n",
    "# !pip install tensorflow_cpu==2.18.0\n"
   ]
  },
  {
   "cell_type": "markdown",
   "metadata": {},
   "source": [
    "##### To use Keras, you will also need to install a backend framework – such as TensorFlow.\n",
    "\n",
    "If you install TensorFlow 2.16 or above, it will install Keras by default.\n",
    "\n",
    "We are using the CPU version of tensorflow since we are dealing with smaller datasets. \n",
    "You may install the GPU version of tensorflow on your machine to accelarate the processing of larger datasets\n"
   ]
  },
  {
   "cell_type": "code",
   "execution_count": 4,
   "metadata": {},
   "outputs": [],
   "source": [
    "import pandas as pd\n",
    "import numpy as np\n",
    "import keras\n",
    "\n",
    "import warnings\n",
    "warnings.simplefilter('ignore', FutureWarning)"
   ]
  },
  {
   "cell_type": "markdown",
   "metadata": {},
   "source": [
    "We will be playing around with the same dataset that we used in the videos.\n",
    "\n",
    "<strong>The dataset is about the compressive strength of different samples of concrete based on the volumes of the different ingredients that were used to make them. Ingredients include:</strong>\n",
    "\n",
    "* Cement\n",
    "* Blast furnace slag\n",
    "* Fly ash\n",
    "* Water\n",
    "* Superplasticizer\n",
    "* Coarse aggregate\n",
    "* Fine aggregate\n"
   ]
  },
  {
   "cell_type": "markdown",
   "metadata": {},
   "source": [
    "Let's download the data and read it into a <em>pandas</em> dataframe.\n"
   ]
  },
  {
   "cell_type": "code",
   "execution_count": 6,
   "metadata": {},
   "outputs": [
    {
     "data": {
      "text/html": [
       "<div>\n",
       "<style scoped>\n",
       "    .dataframe tbody tr th:only-of-type {\n",
       "        vertical-align: middle;\n",
       "    }\n",
       "\n",
       "    .dataframe tbody tr th {\n",
       "        vertical-align: top;\n",
       "    }\n",
       "\n",
       "    .dataframe thead th {\n",
       "        text-align: right;\n",
       "    }\n",
       "</style>\n",
       "<table border=\"1\" class=\"dataframe\">\n",
       "  <thead>\n",
       "    <tr style=\"text-align: right;\">\n",
       "      <th></th>\n",
       "      <th>Cement</th>\n",
       "      <th>Blast Furnace Slag</th>\n",
       "      <th>Fly Ash</th>\n",
       "      <th>Water</th>\n",
       "      <th>Superplasticizer</th>\n",
       "      <th>Coarse Aggregate</th>\n",
       "      <th>Fine Aggregate</th>\n",
       "      <th>Age</th>\n",
       "      <th>Strength</th>\n",
       "    </tr>\n",
       "  </thead>\n",
       "  <tbody>\n",
       "    <tr>\n",
       "      <th>0</th>\n",
       "      <td>540.0</td>\n",
       "      <td>0.0</td>\n",
       "      <td>0.0</td>\n",
       "      <td>162.0</td>\n",
       "      <td>2.5</td>\n",
       "      <td>1040.0</td>\n",
       "      <td>676.0</td>\n",
       "      <td>28</td>\n",
       "      <td>79.99</td>\n",
       "    </tr>\n",
       "    <tr>\n",
       "      <th>1</th>\n",
       "      <td>540.0</td>\n",
       "      <td>0.0</td>\n",
       "      <td>0.0</td>\n",
       "      <td>162.0</td>\n",
       "      <td>2.5</td>\n",
       "      <td>1055.0</td>\n",
       "      <td>676.0</td>\n",
       "      <td>28</td>\n",
       "      <td>61.89</td>\n",
       "    </tr>\n",
       "    <tr>\n",
       "      <th>2</th>\n",
       "      <td>332.5</td>\n",
       "      <td>142.5</td>\n",
       "      <td>0.0</td>\n",
       "      <td>228.0</td>\n",
       "      <td>0.0</td>\n",
       "      <td>932.0</td>\n",
       "      <td>594.0</td>\n",
       "      <td>270</td>\n",
       "      <td>40.27</td>\n",
       "    </tr>\n",
       "    <tr>\n",
       "      <th>3</th>\n",
       "      <td>332.5</td>\n",
       "      <td>142.5</td>\n",
       "      <td>0.0</td>\n",
       "      <td>228.0</td>\n",
       "      <td>0.0</td>\n",
       "      <td>932.0</td>\n",
       "      <td>594.0</td>\n",
       "      <td>365</td>\n",
       "      <td>41.05</td>\n",
       "    </tr>\n",
       "    <tr>\n",
       "      <th>4</th>\n",
       "      <td>198.6</td>\n",
       "      <td>132.4</td>\n",
       "      <td>0.0</td>\n",
       "      <td>192.0</td>\n",
       "      <td>0.0</td>\n",
       "      <td>978.4</td>\n",
       "      <td>825.5</td>\n",
       "      <td>360</td>\n",
       "      <td>44.30</td>\n",
       "    </tr>\n",
       "  </tbody>\n",
       "</table>\n",
       "</div>"
      ],
      "text/plain": [
       "   Cement  Blast Furnace Slag  Fly Ash  Water  Superplasticizer  \\\n",
       "0   540.0                 0.0      0.0  162.0               2.5   \n",
       "1   540.0                 0.0      0.0  162.0               2.5   \n",
       "2   332.5               142.5      0.0  228.0               0.0   \n",
       "3   332.5               142.5      0.0  228.0               0.0   \n",
       "4   198.6               132.4      0.0  192.0               0.0   \n",
       "\n",
       "   Coarse Aggregate  Fine Aggregate  Age  Strength  \n",
       "0            1040.0           676.0   28     79.99  \n",
       "1            1055.0           676.0   28     61.89  \n",
       "2             932.0           594.0  270     40.27  \n",
       "3             932.0           594.0  365     41.05  \n",
       "4             978.4           825.5  360     44.30  "
      ]
     },
     "execution_count": 6,
     "metadata": {},
     "output_type": "execute_result"
    }
   ],
   "source": [
    "filepath='https://s3-api.us-geo.objectstorage.softlayer.net/cf-courses-data/CognitiveClass/DL0101EN/labs/data/concrete_data.csv'\n",
    "concrete_data = pd.read_csv(filepath)\n",
    "\n",
    "concrete_data.head()"
   ]
  },
  {
   "cell_type": "markdown",
   "metadata": {},
   "source": [
    "So the first concrete sample has 540 cubic meter of cement, 0 cubic meter of blast furnace slag, 0 cubic meter of fly ash, 162 cubic meter of water, 2.5 cubic meter of superplaticizer, 1040 cubic meter of coarse aggregate, 676 cubic meter of fine aggregate. Such a concrete mix which is 28 days old, has a compressive strength of 79.99 MPa. \n"
   ]
  },
  {
   "cell_type": "markdown",
   "metadata": {},
   "source": [
    "#### Let's check how many data points we have\n"
   ]
  },
  {
   "cell_type": "code",
   "execution_count": 7,
   "metadata": {},
   "outputs": [
    {
     "data": {
      "text/plain": [
       "(1030, 9)"
      ]
     },
     "execution_count": 7,
     "metadata": {},
     "output_type": "execute_result"
    }
   ],
   "source": [
    "concrete_data.shape"
   ]
  },
  {
   "cell_type": "markdown",
   "metadata": {},
   "source": [
    "So, there are approximately 1000 samples to train our model on. Because of the few samples, we have to be careful not to overfit the training data.\n"
   ]
  },
  {
   "cell_type": "markdown",
   "metadata": {},
   "source": [
    "Let's check the dataset for any missing values.\n"
   ]
  },
  {
   "cell_type": "code",
   "execution_count": 8,
   "metadata": {},
   "outputs": [
    {
     "data": {
      "text/html": [
       "<div>\n",
       "<style scoped>\n",
       "    .dataframe tbody tr th:only-of-type {\n",
       "        vertical-align: middle;\n",
       "    }\n",
       "\n",
       "    .dataframe tbody tr th {\n",
       "        vertical-align: top;\n",
       "    }\n",
       "\n",
       "    .dataframe thead th {\n",
       "        text-align: right;\n",
       "    }\n",
       "</style>\n",
       "<table border=\"1\" class=\"dataframe\">\n",
       "  <thead>\n",
       "    <tr style=\"text-align: right;\">\n",
       "      <th></th>\n",
       "      <th>Cement</th>\n",
       "      <th>Blast Furnace Slag</th>\n",
       "      <th>Fly Ash</th>\n",
       "      <th>Water</th>\n",
       "      <th>Superplasticizer</th>\n",
       "      <th>Coarse Aggregate</th>\n",
       "      <th>Fine Aggregate</th>\n",
       "      <th>Age</th>\n",
       "      <th>Strength</th>\n",
       "    </tr>\n",
       "  </thead>\n",
       "  <tbody>\n",
       "    <tr>\n",
       "      <th>count</th>\n",
       "      <td>1030.000000</td>\n",
       "      <td>1030.000000</td>\n",
       "      <td>1030.000000</td>\n",
       "      <td>1030.000000</td>\n",
       "      <td>1030.000000</td>\n",
       "      <td>1030.000000</td>\n",
       "      <td>1030.000000</td>\n",
       "      <td>1030.000000</td>\n",
       "      <td>1030.000000</td>\n",
       "    </tr>\n",
       "    <tr>\n",
       "      <th>mean</th>\n",
       "      <td>281.167864</td>\n",
       "      <td>73.895825</td>\n",
       "      <td>54.188350</td>\n",
       "      <td>181.567282</td>\n",
       "      <td>6.204660</td>\n",
       "      <td>972.918932</td>\n",
       "      <td>773.580485</td>\n",
       "      <td>45.662136</td>\n",
       "      <td>35.817961</td>\n",
       "    </tr>\n",
       "    <tr>\n",
       "      <th>std</th>\n",
       "      <td>104.506364</td>\n",
       "      <td>86.279342</td>\n",
       "      <td>63.997004</td>\n",
       "      <td>21.354219</td>\n",
       "      <td>5.973841</td>\n",
       "      <td>77.753954</td>\n",
       "      <td>80.175980</td>\n",
       "      <td>63.169912</td>\n",
       "      <td>16.705742</td>\n",
       "    </tr>\n",
       "    <tr>\n",
       "      <th>min</th>\n",
       "      <td>102.000000</td>\n",
       "      <td>0.000000</td>\n",
       "      <td>0.000000</td>\n",
       "      <td>121.800000</td>\n",
       "      <td>0.000000</td>\n",
       "      <td>801.000000</td>\n",
       "      <td>594.000000</td>\n",
       "      <td>1.000000</td>\n",
       "      <td>2.330000</td>\n",
       "    </tr>\n",
       "    <tr>\n",
       "      <th>25%</th>\n",
       "      <td>192.375000</td>\n",
       "      <td>0.000000</td>\n",
       "      <td>0.000000</td>\n",
       "      <td>164.900000</td>\n",
       "      <td>0.000000</td>\n",
       "      <td>932.000000</td>\n",
       "      <td>730.950000</td>\n",
       "      <td>7.000000</td>\n",
       "      <td>23.710000</td>\n",
       "    </tr>\n",
       "    <tr>\n",
       "      <th>50%</th>\n",
       "      <td>272.900000</td>\n",
       "      <td>22.000000</td>\n",
       "      <td>0.000000</td>\n",
       "      <td>185.000000</td>\n",
       "      <td>6.400000</td>\n",
       "      <td>968.000000</td>\n",
       "      <td>779.500000</td>\n",
       "      <td>28.000000</td>\n",
       "      <td>34.445000</td>\n",
       "    </tr>\n",
       "    <tr>\n",
       "      <th>75%</th>\n",
       "      <td>350.000000</td>\n",
       "      <td>142.950000</td>\n",
       "      <td>118.300000</td>\n",
       "      <td>192.000000</td>\n",
       "      <td>10.200000</td>\n",
       "      <td>1029.400000</td>\n",
       "      <td>824.000000</td>\n",
       "      <td>56.000000</td>\n",
       "      <td>46.135000</td>\n",
       "    </tr>\n",
       "    <tr>\n",
       "      <th>max</th>\n",
       "      <td>540.000000</td>\n",
       "      <td>359.400000</td>\n",
       "      <td>200.100000</td>\n",
       "      <td>247.000000</td>\n",
       "      <td>32.200000</td>\n",
       "      <td>1145.000000</td>\n",
       "      <td>992.600000</td>\n",
       "      <td>365.000000</td>\n",
       "      <td>82.600000</td>\n",
       "    </tr>\n",
       "  </tbody>\n",
       "</table>\n",
       "</div>"
      ],
      "text/plain": [
       "            Cement  Blast Furnace Slag      Fly Ash        Water  \\\n",
       "count  1030.000000         1030.000000  1030.000000  1030.000000   \n",
       "mean    281.167864           73.895825    54.188350   181.567282   \n",
       "std     104.506364           86.279342    63.997004    21.354219   \n",
       "min     102.000000            0.000000     0.000000   121.800000   \n",
       "25%     192.375000            0.000000     0.000000   164.900000   \n",
       "50%     272.900000           22.000000     0.000000   185.000000   \n",
       "75%     350.000000          142.950000   118.300000   192.000000   \n",
       "max     540.000000          359.400000   200.100000   247.000000   \n",
       "\n",
       "       Superplasticizer  Coarse Aggregate  Fine Aggregate          Age  \\\n",
       "count       1030.000000       1030.000000     1030.000000  1030.000000   \n",
       "mean           6.204660        972.918932      773.580485    45.662136   \n",
       "std            5.973841         77.753954       80.175980    63.169912   \n",
       "min            0.000000        801.000000      594.000000     1.000000   \n",
       "25%            0.000000        932.000000      730.950000     7.000000   \n",
       "50%            6.400000        968.000000      779.500000    28.000000   \n",
       "75%           10.200000       1029.400000      824.000000    56.000000   \n",
       "max           32.200000       1145.000000      992.600000   365.000000   \n",
       "\n",
       "          Strength  \n",
       "count  1030.000000  \n",
       "mean     35.817961  \n",
       "std      16.705742  \n",
       "min       2.330000  \n",
       "25%      23.710000  \n",
       "50%      34.445000  \n",
       "75%      46.135000  \n",
       "max      82.600000  "
      ]
     },
     "execution_count": 8,
     "metadata": {},
     "output_type": "execute_result"
    }
   ],
   "source": [
    "concrete_data.describe()"
   ]
  },
  {
   "cell_type": "code",
   "execution_count": 9,
   "metadata": {},
   "outputs": [
    {
     "data": {
      "text/plain": [
       "Cement                0\n",
       "Blast Furnace Slag    0\n",
       "Fly Ash               0\n",
       "Water                 0\n",
       "Superplasticizer      0\n",
       "Coarse Aggregate      0\n",
       "Fine Aggregate        0\n",
       "Age                   0\n",
       "Strength              0\n",
       "dtype: int64"
      ]
     },
     "execution_count": 9,
     "metadata": {},
     "output_type": "execute_result"
    }
   ],
   "source": [
    "concrete_data.isnull().sum()"
   ]
  },
  {
   "cell_type": "markdown",
   "metadata": {},
   "source": [
    "The data looks very clean and is ready to be used to build our model.\n"
   ]
  },
  {
   "cell_type": "markdown",
   "metadata": {},
   "source": [
    "#### Split data into predictors and target\n"
   ]
  },
  {
   "cell_type": "markdown",
   "metadata": {},
   "source": [
    "The target variable in this problem is the concrete sample strength. Therefore, our predictors will be all the other columns.\n"
   ]
  },
  {
   "cell_type": "code",
   "execution_count": 10,
   "metadata": {},
   "outputs": [],
   "source": [
    "concrete_data_columns = concrete_data.columns"
   ]
  },
  {
   "cell_type": "code",
   "execution_count": 11,
   "metadata": {},
   "outputs": [],
   "source": [
    "predictors = concrete_data[concrete_data_columns[concrete_data_columns != 'Strength']] # all columns except Strength\n",
    "target = concrete_data['Strength'] # Strength column"
   ]
  },
  {
   "cell_type": "markdown",
   "metadata": {},
   "source": [
    "<a id=\"item2\"></a>\n"
   ]
  },
  {
   "cell_type": "markdown",
   "metadata": {},
   "source": [
    "Let's do a quick sanity check of the predictors and the target dataframes.\n"
   ]
  },
  {
   "cell_type": "code",
   "execution_count": 12,
   "metadata": {},
   "outputs": [
    {
     "data": {
      "text/html": [
       "<div>\n",
       "<style scoped>\n",
       "    .dataframe tbody tr th:only-of-type {\n",
       "        vertical-align: middle;\n",
       "    }\n",
       "\n",
       "    .dataframe tbody tr th {\n",
       "        vertical-align: top;\n",
       "    }\n",
       "\n",
       "    .dataframe thead th {\n",
       "        text-align: right;\n",
       "    }\n",
       "</style>\n",
       "<table border=\"1\" class=\"dataframe\">\n",
       "  <thead>\n",
       "    <tr style=\"text-align: right;\">\n",
       "      <th></th>\n",
       "      <th>Cement</th>\n",
       "      <th>Blast Furnace Slag</th>\n",
       "      <th>Fly Ash</th>\n",
       "      <th>Water</th>\n",
       "      <th>Superplasticizer</th>\n",
       "      <th>Coarse Aggregate</th>\n",
       "      <th>Fine Aggregate</th>\n",
       "      <th>Age</th>\n",
       "    </tr>\n",
       "  </thead>\n",
       "  <tbody>\n",
       "    <tr>\n",
       "      <th>0</th>\n",
       "      <td>540.0</td>\n",
       "      <td>0.0</td>\n",
       "      <td>0.0</td>\n",
       "      <td>162.0</td>\n",
       "      <td>2.5</td>\n",
       "      <td>1040.0</td>\n",
       "      <td>676.0</td>\n",
       "      <td>28</td>\n",
       "    </tr>\n",
       "    <tr>\n",
       "      <th>1</th>\n",
       "      <td>540.0</td>\n",
       "      <td>0.0</td>\n",
       "      <td>0.0</td>\n",
       "      <td>162.0</td>\n",
       "      <td>2.5</td>\n",
       "      <td>1055.0</td>\n",
       "      <td>676.0</td>\n",
       "      <td>28</td>\n",
       "    </tr>\n",
       "    <tr>\n",
       "      <th>2</th>\n",
       "      <td>332.5</td>\n",
       "      <td>142.5</td>\n",
       "      <td>0.0</td>\n",
       "      <td>228.0</td>\n",
       "      <td>0.0</td>\n",
       "      <td>932.0</td>\n",
       "      <td>594.0</td>\n",
       "      <td>270</td>\n",
       "    </tr>\n",
       "    <tr>\n",
       "      <th>3</th>\n",
       "      <td>332.5</td>\n",
       "      <td>142.5</td>\n",
       "      <td>0.0</td>\n",
       "      <td>228.0</td>\n",
       "      <td>0.0</td>\n",
       "      <td>932.0</td>\n",
       "      <td>594.0</td>\n",
       "      <td>365</td>\n",
       "    </tr>\n",
       "    <tr>\n",
       "      <th>4</th>\n",
       "      <td>198.6</td>\n",
       "      <td>132.4</td>\n",
       "      <td>0.0</td>\n",
       "      <td>192.0</td>\n",
       "      <td>0.0</td>\n",
       "      <td>978.4</td>\n",
       "      <td>825.5</td>\n",
       "      <td>360</td>\n",
       "    </tr>\n",
       "  </tbody>\n",
       "</table>\n",
       "</div>"
      ],
      "text/plain": [
       "   Cement  Blast Furnace Slag  Fly Ash  Water  Superplasticizer  \\\n",
       "0   540.0                 0.0      0.0  162.0               2.5   \n",
       "1   540.0                 0.0      0.0  162.0               2.5   \n",
       "2   332.5               142.5      0.0  228.0               0.0   \n",
       "3   332.5               142.5      0.0  228.0               0.0   \n",
       "4   198.6               132.4      0.0  192.0               0.0   \n",
       "\n",
       "   Coarse Aggregate  Fine Aggregate  Age  \n",
       "0            1040.0           676.0   28  \n",
       "1            1055.0           676.0   28  \n",
       "2             932.0           594.0  270  \n",
       "3             932.0           594.0  365  \n",
       "4             978.4           825.5  360  "
      ]
     },
     "execution_count": 12,
     "metadata": {},
     "output_type": "execute_result"
    }
   ],
   "source": [
    "predictors.head()"
   ]
  },
  {
   "cell_type": "code",
   "execution_count": 13,
   "metadata": {},
   "outputs": [
    {
     "data": {
      "text/plain": [
       "0    79.99\n",
       "1    61.89\n",
       "2    40.27\n",
       "3    41.05\n",
       "4    44.30\n",
       "Name: Strength, dtype: float64"
      ]
     },
     "execution_count": 13,
     "metadata": {},
     "output_type": "execute_result"
    }
   ],
   "source": [
    "target.head()"
   ]
  },
  {
   "cell_type": "markdown",
   "metadata": {},
   "source": [
    "Finally, the last step is to normalize the data by substracting the mean and dividing by the standard deviation.\n"
   ]
  },
  {
   "cell_type": "code",
   "execution_count": 14,
   "metadata": {},
   "outputs": [
    {
     "data": {
      "text/html": [
       "<div>\n",
       "<style scoped>\n",
       "    .dataframe tbody tr th:only-of-type {\n",
       "        vertical-align: middle;\n",
       "    }\n",
       "\n",
       "    .dataframe tbody tr th {\n",
       "        vertical-align: top;\n",
       "    }\n",
       "\n",
       "    .dataframe thead th {\n",
       "        text-align: right;\n",
       "    }\n",
       "</style>\n",
       "<table border=\"1\" class=\"dataframe\">\n",
       "  <thead>\n",
       "    <tr style=\"text-align: right;\">\n",
       "      <th></th>\n",
       "      <th>Cement</th>\n",
       "      <th>Blast Furnace Slag</th>\n",
       "      <th>Fly Ash</th>\n",
       "      <th>Water</th>\n",
       "      <th>Superplasticizer</th>\n",
       "      <th>Coarse Aggregate</th>\n",
       "      <th>Fine Aggregate</th>\n",
       "      <th>Age</th>\n",
       "    </tr>\n",
       "  </thead>\n",
       "  <tbody>\n",
       "    <tr>\n",
       "      <th>0</th>\n",
       "      <td>2.476712</td>\n",
       "      <td>-0.856472</td>\n",
       "      <td>-0.846733</td>\n",
       "      <td>-0.916319</td>\n",
       "      <td>-0.620147</td>\n",
       "      <td>0.862735</td>\n",
       "      <td>-1.217079</td>\n",
       "      <td>-0.279597</td>\n",
       "    </tr>\n",
       "    <tr>\n",
       "      <th>1</th>\n",
       "      <td>2.476712</td>\n",
       "      <td>-0.856472</td>\n",
       "      <td>-0.846733</td>\n",
       "      <td>-0.916319</td>\n",
       "      <td>-0.620147</td>\n",
       "      <td>1.055651</td>\n",
       "      <td>-1.217079</td>\n",
       "      <td>-0.279597</td>\n",
       "    </tr>\n",
       "    <tr>\n",
       "      <th>2</th>\n",
       "      <td>0.491187</td>\n",
       "      <td>0.795140</td>\n",
       "      <td>-0.846733</td>\n",
       "      <td>2.174405</td>\n",
       "      <td>-1.038638</td>\n",
       "      <td>-0.526262</td>\n",
       "      <td>-2.239829</td>\n",
       "      <td>3.551340</td>\n",
       "    </tr>\n",
       "    <tr>\n",
       "      <th>3</th>\n",
       "      <td>0.491187</td>\n",
       "      <td>0.795140</td>\n",
       "      <td>-0.846733</td>\n",
       "      <td>2.174405</td>\n",
       "      <td>-1.038638</td>\n",
       "      <td>-0.526262</td>\n",
       "      <td>-2.239829</td>\n",
       "      <td>5.055221</td>\n",
       "    </tr>\n",
       "    <tr>\n",
       "      <th>4</th>\n",
       "      <td>-0.790075</td>\n",
       "      <td>0.678079</td>\n",
       "      <td>-0.846733</td>\n",
       "      <td>0.488555</td>\n",
       "      <td>-1.038638</td>\n",
       "      <td>0.070492</td>\n",
       "      <td>0.647569</td>\n",
       "      <td>4.976069</td>\n",
       "    </tr>\n",
       "  </tbody>\n",
       "</table>\n",
       "</div>"
      ],
      "text/plain": [
       "     Cement  Blast Furnace Slag   Fly Ash     Water  Superplasticizer  \\\n",
       "0  2.476712           -0.856472 -0.846733 -0.916319         -0.620147   \n",
       "1  2.476712           -0.856472 -0.846733 -0.916319         -0.620147   \n",
       "2  0.491187            0.795140 -0.846733  2.174405         -1.038638   \n",
       "3  0.491187            0.795140 -0.846733  2.174405         -1.038638   \n",
       "4 -0.790075            0.678079 -0.846733  0.488555         -1.038638   \n",
       "\n",
       "   Coarse Aggregate  Fine Aggregate       Age  \n",
       "0          0.862735       -1.217079 -0.279597  \n",
       "1          1.055651       -1.217079 -0.279597  \n",
       "2         -0.526262       -2.239829  3.551340  \n",
       "3         -0.526262       -2.239829  5.055221  \n",
       "4          0.070492        0.647569  4.976069  "
      ]
     },
     "execution_count": 14,
     "metadata": {},
     "output_type": "execute_result"
    }
   ],
   "source": [
    "predictors_norm = (predictors - predictors.mean()) / predictors.std() # normalizing the data\n",
    "predictors_norm.head()"
   ]
  },
  {
   "cell_type": "markdown",
   "metadata": {},
   "source": [
    "Let's save the number of predictors to *n_cols* since we will need this number when building our network.\n"
   ]
  },
  {
   "cell_type": "code",
   "execution_count": 15,
   "metadata": {},
   "outputs": [],
   "source": [
    "n_cols = predictors_norm.shape[1] # number of predictors"
   ]
  },
  {
   "cell_type": "markdown",
   "metadata": {},
   "source": [
    "##  Import Keras Packages\n",
    "\n",
    "##### Let's import the rest of the packages from the Keras library that we will need to build our regression model.\n"
   ]
  },
  {
   "cell_type": "code",
   "execution_count": 16,
   "metadata": {},
   "outputs": [],
   "source": [
    "from keras.models import Sequential\n",
    "from keras.layers import Dense\n",
    "from keras.layers import Input"
   ]
  },
  {
   "cell_type": "markdown",
   "metadata": {},
   "source": [
    "<a id='item33'></a>\n"
   ]
  },
  {
   "cell_type": "markdown",
   "metadata": {},
   "source": [
    "## Build a Neural Network\n"
   ]
  },
  {
   "cell_type": "markdown",
   "metadata": {},
   "source": [
    "Let's define a function that defines our regression model for us so that we can conveniently call it to create our model.\n"
   ]
  },
  {
   "cell_type": "code",
   "execution_count": 21,
   "metadata": {},
   "outputs": [],
   "source": [
    "# define regression model\n",
    "def regression_model():\n",
    "    # create model\n",
    "    model = Sequential()\n",
    "    model.add(Input(shape=(n_cols,))) # input layer\n",
    "    model.add(Dense(50, activation='relu')) # hidden layer\n",
    "    model.add(Dense(50, activation='relu')) # hidden layer\n",
    "    model.add(Dense(1)) # output layer\n",
    "    \n",
    "    # compile model\n",
    "    model.compile(optimizer='adam', loss='mean_squared_error')\n",
    "    return model"
   ]
  },
  {
   "cell_type": "markdown",
   "metadata": {},
   "source": [
    "The above function create a model that has two hidden layers, each of 50 hidden units.\n"
   ]
  },
  {
   "cell_type": "markdown",
   "metadata": {},
   "source": [
    "<a id=\"item4\"></a>\n"
   ]
  },
  {
   "cell_type": "markdown",
   "metadata": {},
   "source": [
    "## Train and Test the Network\n"
   ]
  },
  {
   "cell_type": "markdown",
   "metadata": {},
   "source": [
    "Let's call the function now to create our model.\n"
   ]
  },
  {
   "cell_type": "code",
   "execution_count": 22,
   "metadata": {},
   "outputs": [
    {
     "data": {
      "text/html": [
       "<pre style=\"white-space:pre;overflow-x:auto;line-height:normal;font-family:Menlo,'DejaVu Sans Mono',consolas,'Courier New',monospace\"><span style=\"font-weight: bold\">Model: \"sequential_2\"</span>\n",
       "</pre>\n"
      ],
      "text/plain": [
       "\u001b[1mModel: \"sequential_2\"\u001b[0m\n"
      ]
     },
     "metadata": {},
     "output_type": "display_data"
    },
    {
     "data": {
      "text/html": [
       "<pre style=\"white-space:pre;overflow-x:auto;line-height:normal;font-family:Menlo,'DejaVu Sans Mono',consolas,'Courier New',monospace\">┏━━━━━━━━━━━━━━━━━━━━━━━━━━━━━━━━━┳━━━━━━━━━━━━━━━━━━━━━━━━┳━━━━━━━━━━━━━━━┓\n",
       "┃<span style=\"font-weight: bold\"> Layer (type)                    </span>┃<span style=\"font-weight: bold\"> Output Shape           </span>┃<span style=\"font-weight: bold\">       Param # </span>┃\n",
       "┡━━━━━━━━━━━━━━━━━━━━━━━━━━━━━━━━━╇━━━━━━━━━━━━━━━━━━━━━━━━╇━━━━━━━━━━━━━━━┩\n",
       "│ dense_6 (<span style=\"color: #0087ff; text-decoration-color: #0087ff\">Dense</span>)                 │ (<span style=\"color: #00d7ff; text-decoration-color: #00d7ff\">None</span>, <span style=\"color: #00af00; text-decoration-color: #00af00\">50</span>)             │           <span style=\"color: #00af00; text-decoration-color: #00af00\">450</span> │\n",
       "├─────────────────────────────────┼────────────────────────┼───────────────┤\n",
       "│ dense_7 (<span style=\"color: #0087ff; text-decoration-color: #0087ff\">Dense</span>)                 │ (<span style=\"color: #00d7ff; text-decoration-color: #00d7ff\">None</span>, <span style=\"color: #00af00; text-decoration-color: #00af00\">50</span>)             │         <span style=\"color: #00af00; text-decoration-color: #00af00\">2,550</span> │\n",
       "├─────────────────────────────────┼────────────────────────┼───────────────┤\n",
       "│ dense_8 (<span style=\"color: #0087ff; text-decoration-color: #0087ff\">Dense</span>)                 │ (<span style=\"color: #00d7ff; text-decoration-color: #00d7ff\">None</span>, <span style=\"color: #00af00; text-decoration-color: #00af00\">1</span>)              │            <span style=\"color: #00af00; text-decoration-color: #00af00\">51</span> │\n",
       "└─────────────────────────────────┴────────────────────────┴───────────────┘\n",
       "</pre>\n"
      ],
      "text/plain": [
       "┏━━━━━━━━━━━━━━━━━━━━━━━━━━━━━━━━━┳━━━━━━━━━━━━━━━━━━━━━━━━┳━━━━━━━━━━━━━━━┓\n",
       "┃\u001b[1m \u001b[0m\u001b[1mLayer (type)                   \u001b[0m\u001b[1m \u001b[0m┃\u001b[1m \u001b[0m\u001b[1mOutput Shape          \u001b[0m\u001b[1m \u001b[0m┃\u001b[1m \u001b[0m\u001b[1m      Param #\u001b[0m\u001b[1m \u001b[0m┃\n",
       "┡━━━━━━━━━━━━━━━━━━━━━━━━━━━━━━━━━╇━━━━━━━━━━━━━━━━━━━━━━━━╇━━━━━━━━━━━━━━━┩\n",
       "│ dense_6 (\u001b[38;5;33mDense\u001b[0m)                 │ (\u001b[38;5;45mNone\u001b[0m, \u001b[38;5;34m50\u001b[0m)             │           \u001b[38;5;34m450\u001b[0m │\n",
       "├─────────────────────────────────┼────────────────────────┼───────────────┤\n",
       "│ dense_7 (\u001b[38;5;33mDense\u001b[0m)                 │ (\u001b[38;5;45mNone\u001b[0m, \u001b[38;5;34m50\u001b[0m)             │         \u001b[38;5;34m2,550\u001b[0m │\n",
       "├─────────────────────────────────┼────────────────────────┼───────────────┤\n",
       "│ dense_8 (\u001b[38;5;33mDense\u001b[0m)                 │ (\u001b[38;5;45mNone\u001b[0m, \u001b[38;5;34m1\u001b[0m)              │            \u001b[38;5;34m51\u001b[0m │\n",
       "└─────────────────────────────────┴────────────────────────┴───────────────┘\n"
      ]
     },
     "metadata": {},
     "output_type": "display_data"
    },
    {
     "data": {
      "text/html": [
       "<pre style=\"white-space:pre;overflow-x:auto;line-height:normal;font-family:Menlo,'DejaVu Sans Mono',consolas,'Courier New',monospace\"><span style=\"font-weight: bold\"> Total params: </span><span style=\"color: #00af00; text-decoration-color: #00af00\">3,051</span> (11.92 KB)\n",
       "</pre>\n"
      ],
      "text/plain": [
       "\u001b[1m Total params: \u001b[0m\u001b[38;5;34m3,051\u001b[0m (11.92 KB)\n"
      ]
     },
     "metadata": {},
     "output_type": "display_data"
    },
    {
     "data": {
      "text/html": [
       "<pre style=\"white-space:pre;overflow-x:auto;line-height:normal;font-family:Menlo,'DejaVu Sans Mono',consolas,'Courier New',monospace\"><span style=\"font-weight: bold\"> Trainable params: </span><span style=\"color: #00af00; text-decoration-color: #00af00\">3,051</span> (11.92 KB)\n",
       "</pre>\n"
      ],
      "text/plain": [
       "\u001b[1m Trainable params: \u001b[0m\u001b[38;5;34m3,051\u001b[0m (11.92 KB)\n"
      ]
     },
     "metadata": {},
     "output_type": "display_data"
    },
    {
     "data": {
      "text/html": [
       "<pre style=\"white-space:pre;overflow-x:auto;line-height:normal;font-family:Menlo,'DejaVu Sans Mono',consolas,'Courier New',monospace\"><span style=\"font-weight: bold\"> Non-trainable params: </span><span style=\"color: #00af00; text-decoration-color: #00af00\">0</span> (0.00 B)\n",
       "</pre>\n"
      ],
      "text/plain": [
       "\u001b[1m Non-trainable params: \u001b[0m\u001b[38;5;34m0\u001b[0m (0.00 B)\n"
      ]
     },
     "metadata": {},
     "output_type": "display_data"
    }
   ],
   "source": [
    "# build the model\n",
    "model = regression_model()\n",
    "model.summary()"
   ]
  },
  {
   "cell_type": "markdown",
   "metadata": {},
   "source": [
    "Next, we will train and test the model at the same time using the *fit* method. We will leave out 30% of the data for validation and we will train the model for 100 epochs.\n"
   ]
  },
  {
   "cell_type": "code",
   "execution_count": 23,
   "metadata": {},
   "outputs": [
    {
     "name": "stdout",
     "output_type": "stream",
     "text": [
      "Epoch 1/100\n",
      "23/23 - 1s - 49ms/step - loss: 1652.9641 - val_loss: 1149.3741\n",
      "Epoch 2/100\n",
      "23/23 - 0s - 6ms/step - loss: 1522.8943 - val_loss: 1033.2953\n",
      "Epoch 3/100\n",
      "23/23 - 0s - 6ms/step - loss: 1310.2544 - val_loss: 845.5901\n",
      "Epoch 4/100\n",
      "23/23 - 0s - 6ms/step - loss: 978.8269 - val_loss: 592.9147\n",
      "Epoch 5/100\n",
      "23/23 - 0s - 6ms/step - loss: 595.0826 - val_loss: 353.6688\n",
      "Epoch 6/100\n",
      "23/23 - 0s - 5ms/step - loss: 327.5720 - val_loss: 222.2847\n",
      "Epoch 7/100\n",
      "23/23 - 0s - 6ms/step - loss: 239.6332 - val_loss: 183.2552\n",
      "Epoch 8/100\n",
      "23/23 - 0s - 6ms/step - loss: 218.8671 - val_loss: 171.8706\n",
      "Epoch 9/100\n",
      "23/23 - 0s - 6ms/step - loss: 204.3068 - val_loss: 169.1828\n",
      "Epoch 10/100\n",
      "23/23 - 0s - 5ms/step - loss: 193.9135 - val_loss: 165.1025\n",
      "Epoch 11/100\n",
      "23/23 - 0s - 6ms/step - loss: 185.7681 - val_loss: 165.7758\n",
      "Epoch 12/100\n",
      "23/23 - 0s - 5ms/step - loss: 179.1472 - val_loss: 163.5255\n",
      "Epoch 13/100\n",
      "23/23 - 0s - 6ms/step - loss: 173.2462 - val_loss: 160.9790\n",
      "Epoch 14/100\n",
      "23/23 - 0s - 6ms/step - loss: 169.0040 - val_loss: 161.0984\n",
      "Epoch 15/100\n",
      "23/23 - 0s - 6ms/step - loss: 165.4275 - val_loss: 159.7650\n",
      "Epoch 16/100\n",
      "23/23 - 0s - 5ms/step - loss: 161.5536 - val_loss: 157.3676\n",
      "Epoch 17/100\n",
      "23/23 - 0s - 5ms/step - loss: 159.2132 - val_loss: 158.4539\n",
      "Epoch 18/100\n",
      "23/23 - 0s - 5ms/step - loss: 155.9265 - val_loss: 154.5272\n",
      "Epoch 19/100\n",
      "23/23 - 0s - 5ms/step - loss: 153.6123 - val_loss: 156.1225\n",
      "Epoch 20/100\n",
      "23/23 - 0s - 5ms/step - loss: 151.8581 - val_loss: 156.6741\n",
      "Epoch 21/100\n",
      "23/23 - 0s - 5ms/step - loss: 149.8630 - val_loss: 156.9328\n",
      "Epoch 22/100\n",
      "23/23 - 0s - 5ms/step - loss: 148.2019 - val_loss: 157.2372\n",
      "Epoch 23/100\n",
      "23/23 - 0s - 5ms/step - loss: 145.9089 - val_loss: 154.6331\n",
      "Epoch 24/100\n",
      "23/23 - 0s - 5ms/step - loss: 145.1844 - val_loss: 154.5401\n",
      "Epoch 25/100\n",
      "23/23 - 0s - 6ms/step - loss: 143.2183 - val_loss: 157.4532\n",
      "Epoch 26/100\n",
      "23/23 - 0s - 6ms/step - loss: 141.7228 - val_loss: 156.1297\n",
      "Epoch 27/100\n",
      "23/23 - 0s - 6ms/step - loss: 140.5515 - val_loss: 156.3316\n",
      "Epoch 28/100\n",
      "23/23 - 0s - 6ms/step - loss: 139.2706 - val_loss: 158.5194\n",
      "Epoch 29/100\n",
      "23/23 - 0s - 6ms/step - loss: 138.4954 - val_loss: 156.8400\n",
      "Epoch 30/100\n",
      "23/23 - 0s - 5ms/step - loss: 137.0178 - val_loss: 159.1760\n",
      "Epoch 31/100\n",
      "23/23 - 0s - 5ms/step - loss: 135.8750 - val_loss: 154.8788\n",
      "Epoch 32/100\n",
      "23/23 - 0s - 5ms/step - loss: 135.2982 - val_loss: 159.4393\n",
      "Epoch 33/100\n",
      "23/23 - 0s - 5ms/step - loss: 133.6704 - val_loss: 159.1931\n",
      "Epoch 34/100\n",
      "23/23 - 0s - 5ms/step - loss: 132.8759 - val_loss: 160.7414\n",
      "Epoch 35/100\n",
      "23/23 - 0s - 6ms/step - loss: 132.3263 - val_loss: 158.2511\n",
      "Epoch 36/100\n",
      "23/23 - 0s - 5ms/step - loss: 131.2148 - val_loss: 157.9899\n",
      "Epoch 37/100\n",
      "23/23 - 0s - 6ms/step - loss: 129.6932 - val_loss: 158.3304\n",
      "Epoch 38/100\n",
      "23/23 - 0s - 6ms/step - loss: 128.8473 - val_loss: 162.1881\n",
      "Epoch 39/100\n",
      "23/23 - 0s - 6ms/step - loss: 127.6290 - val_loss: 157.5802\n",
      "Epoch 40/100\n",
      "23/23 - 0s - 5ms/step - loss: 127.2596 - val_loss: 155.6178\n",
      "Epoch 41/100\n",
      "23/23 - 0s - 5ms/step - loss: 126.2643 - val_loss: 160.5548\n",
      "Epoch 42/100\n",
      "23/23 - 0s - 5ms/step - loss: 124.4394 - val_loss: 157.7072\n",
      "Epoch 43/100\n",
      "23/23 - 0s - 6ms/step - loss: 123.9112 - val_loss: 157.8088\n",
      "Epoch 44/100\n",
      "23/23 - 0s - 5ms/step - loss: 122.5192 - val_loss: 155.7018\n",
      "Epoch 45/100\n",
      "23/23 - 0s - 6ms/step - loss: 121.1972 - val_loss: 156.6223\n",
      "Epoch 46/100\n",
      "23/23 - 0s - 6ms/step - loss: 119.8266 - val_loss: 155.3345\n",
      "Epoch 47/100\n",
      "23/23 - 0s - 6ms/step - loss: 118.3322 - val_loss: 153.3800\n",
      "Epoch 48/100\n",
      "23/23 - 0s - 6ms/step - loss: 117.1603 - val_loss: 151.7193\n",
      "Epoch 49/100\n",
      "23/23 - 0s - 7ms/step - loss: 115.3879 - val_loss: 152.3304\n",
      "Epoch 50/100\n",
      "23/23 - 0s - 5ms/step - loss: 113.6630 - val_loss: 156.1525\n",
      "Epoch 51/100\n",
      "23/23 - 0s - 5ms/step - loss: 112.4255 - val_loss: 151.7029\n",
      "Epoch 52/100\n",
      "23/23 - 0s - 6ms/step - loss: 110.1311 - val_loss: 150.0624\n",
      "Epoch 53/100\n",
      "23/23 - 0s - 5ms/step - loss: 108.6679 - val_loss: 148.7066\n",
      "Epoch 54/100\n",
      "23/23 - 0s - 5ms/step - loss: 106.9100 - val_loss: 149.9436\n",
      "Epoch 55/100\n",
      "23/23 - 0s - 5ms/step - loss: 106.6062 - val_loss: 152.6240\n",
      "Epoch 56/100\n",
      "23/23 - 0s - 6ms/step - loss: 103.5488 - val_loss: 145.2547\n",
      "Epoch 57/100\n",
      "23/23 - 0s - 5ms/step - loss: 101.7825 - val_loss: 145.7375\n",
      "Epoch 58/100\n",
      "23/23 - 0s - 6ms/step - loss: 99.8482 - val_loss: 142.7865\n",
      "Epoch 59/100\n",
      "23/23 - 0s - 6ms/step - loss: 98.4908 - val_loss: 141.8173\n",
      "Epoch 60/100\n",
      "23/23 - 0s - 6ms/step - loss: 96.2015 - val_loss: 143.7124\n",
      "Epoch 61/100\n",
      "23/23 - 0s - 6ms/step - loss: 93.5681 - val_loss: 137.4998\n",
      "Epoch 62/100\n",
      "23/23 - 0s - 6ms/step - loss: 91.2486 - val_loss: 133.8823\n",
      "Epoch 63/100\n",
      "23/23 - 0s - 6ms/step - loss: 88.9322 - val_loss: 138.6806\n",
      "Epoch 64/100\n",
      "23/23 - 0s - 5ms/step - loss: 86.3497 - val_loss: 134.7635\n",
      "Epoch 65/100\n",
      "23/23 - 0s - 5ms/step - loss: 83.4270 - val_loss: 135.3860\n",
      "Epoch 66/100\n",
      "23/23 - 0s - 5ms/step - loss: 81.3599 - val_loss: 135.6308\n",
      "Epoch 67/100\n",
      "23/23 - 0s - 5ms/step - loss: 78.3275 - val_loss: 133.1987\n",
      "Epoch 68/100\n",
      "23/23 - 0s - 5ms/step - loss: 76.1480 - val_loss: 136.0165\n",
      "Epoch 69/100\n",
      "23/23 - 0s - 5ms/step - loss: 74.0472 - val_loss: 132.3438\n",
      "Epoch 70/100\n",
      "23/23 - 0s - 5ms/step - loss: 71.4017 - val_loss: 134.7458\n",
      "Epoch 71/100\n",
      "23/23 - 0s - 5ms/step - loss: 69.3769 - val_loss: 140.6495\n",
      "Epoch 72/100\n",
      "23/23 - 0s - 5ms/step - loss: 67.4133 - val_loss: 136.3410\n",
      "Epoch 73/100\n",
      "23/23 - 0s - 5ms/step - loss: 65.0309 - val_loss: 131.8547\n",
      "Epoch 74/100\n",
      "23/23 - 0s - 5ms/step - loss: 63.2918 - val_loss: 139.3134\n",
      "Epoch 75/100\n",
      "23/23 - 0s - 5ms/step - loss: 62.3054 - val_loss: 130.4466\n",
      "Epoch 76/100\n",
      "23/23 - 0s - 6ms/step - loss: 60.7652 - val_loss: 128.2531\n",
      "Epoch 77/100\n",
      "23/23 - 0s - 6ms/step - loss: 58.6390 - val_loss: 141.1352\n",
      "Epoch 78/100\n",
      "23/23 - 0s - 6ms/step - loss: 57.1841 - val_loss: 137.0948\n",
      "Epoch 79/100\n",
      "23/23 - 0s - 5ms/step - loss: 55.5934 - val_loss: 133.7276\n",
      "Epoch 80/100\n",
      "23/23 - 0s - 5ms/step - loss: 54.4043 - val_loss: 141.6730\n",
      "Epoch 81/100\n",
      "23/23 - 0s - 5ms/step - loss: 52.7645 - val_loss: 135.1481\n",
      "Epoch 82/100\n",
      "23/23 - 0s - 6ms/step - loss: 51.7837 - val_loss: 140.8061\n",
      "Epoch 83/100\n",
      "23/23 - 0s - 5ms/step - loss: 50.9671 - val_loss: 137.3470\n",
      "Epoch 84/100\n",
      "23/23 - 0s - 5ms/step - loss: 49.7609 - val_loss: 134.4688\n",
      "Epoch 85/100\n",
      "23/23 - 0s - 5ms/step - loss: 49.0108 - val_loss: 144.7825\n",
      "Epoch 86/100\n",
      "23/23 - 0s - 5ms/step - loss: 48.1901 - val_loss: 136.8599\n",
      "Epoch 87/100\n",
      "23/23 - 0s - 5ms/step - loss: 47.9943 - val_loss: 154.6205\n",
      "Epoch 88/100\n",
      "23/23 - 0s - 5ms/step - loss: 46.5822 - val_loss: 146.7372\n",
      "Epoch 89/100\n",
      "23/23 - 0s - 6ms/step - loss: 45.5054 - val_loss: 140.8604\n",
      "Epoch 90/100\n",
      "23/23 - 0s - 6ms/step - loss: 44.8108 - val_loss: 146.9023\n",
      "Epoch 91/100\n",
      "23/23 - 0s - 5ms/step - loss: 44.4367 - val_loss: 146.9770\n",
      "Epoch 92/100\n",
      "23/23 - 0s - 6ms/step - loss: 44.5964 - val_loss: 135.8787\n",
      "Epoch 93/100\n",
      "23/23 - 0s - 6ms/step - loss: 43.1676 - val_loss: 147.3198\n",
      "Epoch 94/100\n",
      "23/23 - 0s - 6ms/step - loss: 42.4986 - val_loss: 154.2923\n",
      "Epoch 95/100\n",
      "23/23 - 0s - 6ms/step - loss: 41.7819 - val_loss: 146.9612\n",
      "Epoch 96/100\n",
      "23/23 - 0s - 6ms/step - loss: 41.9398 - val_loss: 150.3969\n",
      "Epoch 97/100\n",
      "23/23 - 0s - 6ms/step - loss: 41.0716 - val_loss: 156.5338\n",
      "Epoch 98/100\n",
      "23/23 - 0s - 5ms/step - loss: 40.5921 - val_loss: 156.9230\n",
      "Epoch 99/100\n",
      "23/23 - 0s - 5ms/step - loss: 40.6368 - val_loss: 149.6717\n",
      "Epoch 100/100\n",
      "23/23 - 0s - 5ms/step - loss: 40.2247 - val_loss: 146.0762\n"
     ]
    },
    {
     "data": {
      "text/plain": [
       "<keras.src.callbacks.history.History at 0x1f198a59ff0>"
      ]
     },
     "execution_count": 23,
     "metadata": {},
     "output_type": "execute_result"
    }
   ],
   "source": [
    "# fit the model\n",
    "model.fit(predictors_norm, target, validation_split=0.3, epochs=100, verbose=2) # verbose=2 shows only epoch number and loss"
   ]
  },
  {
   "cell_type": "markdown",
   "metadata": {},
   "source": [
    "<strong>You can refer to this [link](https://keras.io/models/sequential/) to learn about other functions that you can use for prediction or evaluation.</strong>\n"
   ]
  },
  {
   "cell_type": "markdown",
   "metadata": {},
   "source": [
    "Feel free to vary the following and note what impact each change has on the model's performance:\n",
    "\n",
    "1. Increase or decreate number of neurons in hidden layers\n",
    "2. Add more hidden layers\n",
    "3. Increase number of epochs\n"
   ]
  },
  {
   "cell_type": "markdown",
   "metadata": {},
   "source": [
    "<h3>Practice Exercise 1</h3>\n"
   ]
  },
  {
   "cell_type": "markdown",
   "metadata": {},
   "source": [
    "Now using the same dateset,try to recreate regression model featuring five hidden layers, each with 50 nodes and ReLU activation functions, a single output layer, optimized using the Adam optimizer.\n"
   ]
  },
  {
   "cell_type": "code",
   "execution_count": 24,
   "metadata": {},
   "outputs": [],
   "source": [
    "# Write your code here\n",
    "def regression_model2():\n",
    "    # create model\n",
    "    model = Sequential()\n",
    "    model.add(Input(shape=(n_cols,))) # input layer\n",
    "    model.add(Dense(50, activation=\"relu\"))\n",
    "    model.add(Dense(50, activation=\"relu\"))\n",
    "    model.add(Dense(50, activation=\"relu\"))\n",
    "    model.add(Dense(50, activation=\"relu\"))\n",
    "    model.add(Dense(50, activation=\"relu\"))\n",
    "    model.add(Dense(1)) # output layer\n",
    "    \n",
    "    # compile model\n",
    "    model.compile(optimizer='adam', loss='mean_squared_error')\n",
    "    return model"
   ]
  },
  {
   "cell_type": "markdown",
   "metadata": {},
   "source": [
    "Double-click <b>here</b> for the solution.\n",
    "\n",
    "<!-- Your answer is below:\n",
    "def regression_model():\n",
    "    input_colm = predictors_norm.shape[1] # Number of input features\n",
    "    # create model\n",
    "    model = Sequential()\n",
    "    model.add(Input(shape=(input_colm,)))  # Set the number of input features \n",
    "    model.add(Dense(50, activation='relu'))  \n",
    "    model.add(Dense(50, activation='relu'))\n",
    "    model.add(Dense(50, activation='relu')) \n",
    "    model.add(Dense(50, activation='relu'))\n",
    "    model.add(Dense(50, activation='relu'))  \n",
    "    model.add(Dense(1))  # Output layer\n",
    "    \n",
    "    # compile model\n",
    "    model.compile(optimizer='adam', loss='mean_squared_error')\n",
    "    return model\n",
    "\n",
    "-->\n"
   ]
  },
  {
   "cell_type": "markdown",
   "metadata": {},
   "source": [
    "<h3>Practice Exercise 2</h3>\n"
   ]
  },
  {
   "cell_type": "markdown",
   "metadata": {},
   "source": [
    " Train and evaluate the model simultaneously using the fit() method by reserving 10% of the data for validation and training the model for 100 epochs\n"
   ]
  },
  {
   "cell_type": "code",
   "execution_count": 26,
   "metadata": {},
   "outputs": [
    {
     "data": {
      "text/html": [
       "<pre style=\"white-space:pre;overflow-x:auto;line-height:normal;font-family:Menlo,'DejaVu Sans Mono',consolas,'Courier New',monospace\"><span style=\"font-weight: bold\">Model: \"sequential_4\"</span>\n",
       "</pre>\n"
      ],
      "text/plain": [
       "\u001b[1mModel: \"sequential_4\"\u001b[0m\n"
      ]
     },
     "metadata": {},
     "output_type": "display_data"
    },
    {
     "data": {
      "text/html": [
       "<pre style=\"white-space:pre;overflow-x:auto;line-height:normal;font-family:Menlo,'DejaVu Sans Mono',consolas,'Courier New',monospace\">┏━━━━━━━━━━━━━━━━━━━━━━━━━━━━━━━━━┳━━━━━━━━━━━━━━━━━━━━━━━━┳━━━━━━━━━━━━━━━┓\n",
       "┃<span style=\"font-weight: bold\"> Layer (type)                    </span>┃<span style=\"font-weight: bold\"> Output Shape           </span>┃<span style=\"font-weight: bold\">       Param # </span>┃\n",
       "┡━━━━━━━━━━━━━━━━━━━━━━━━━━━━━━━━━╇━━━━━━━━━━━━━━━━━━━━━━━━╇━━━━━━━━━━━━━━━┩\n",
       "│ dense_15 (<span style=\"color: #0087ff; text-decoration-color: #0087ff\">Dense</span>)                │ (<span style=\"color: #00d7ff; text-decoration-color: #00d7ff\">None</span>, <span style=\"color: #00af00; text-decoration-color: #00af00\">50</span>)             │           <span style=\"color: #00af00; text-decoration-color: #00af00\">450</span> │\n",
       "├─────────────────────────────────┼────────────────────────┼───────────────┤\n",
       "│ dense_16 (<span style=\"color: #0087ff; text-decoration-color: #0087ff\">Dense</span>)                │ (<span style=\"color: #00d7ff; text-decoration-color: #00d7ff\">None</span>, <span style=\"color: #00af00; text-decoration-color: #00af00\">50</span>)             │         <span style=\"color: #00af00; text-decoration-color: #00af00\">2,550</span> │\n",
       "├─────────────────────────────────┼────────────────────────┼───────────────┤\n",
       "│ dense_17 (<span style=\"color: #0087ff; text-decoration-color: #0087ff\">Dense</span>)                │ (<span style=\"color: #00d7ff; text-decoration-color: #00d7ff\">None</span>, <span style=\"color: #00af00; text-decoration-color: #00af00\">50</span>)             │         <span style=\"color: #00af00; text-decoration-color: #00af00\">2,550</span> │\n",
       "├─────────────────────────────────┼────────────────────────┼───────────────┤\n",
       "│ dense_18 (<span style=\"color: #0087ff; text-decoration-color: #0087ff\">Dense</span>)                │ (<span style=\"color: #00d7ff; text-decoration-color: #00d7ff\">None</span>, <span style=\"color: #00af00; text-decoration-color: #00af00\">50</span>)             │         <span style=\"color: #00af00; text-decoration-color: #00af00\">2,550</span> │\n",
       "├─────────────────────────────────┼────────────────────────┼───────────────┤\n",
       "│ dense_19 (<span style=\"color: #0087ff; text-decoration-color: #0087ff\">Dense</span>)                │ (<span style=\"color: #00d7ff; text-decoration-color: #00d7ff\">None</span>, <span style=\"color: #00af00; text-decoration-color: #00af00\">50</span>)             │         <span style=\"color: #00af00; text-decoration-color: #00af00\">2,550</span> │\n",
       "├─────────────────────────────────┼────────────────────────┼───────────────┤\n",
       "│ dense_20 (<span style=\"color: #0087ff; text-decoration-color: #0087ff\">Dense</span>)                │ (<span style=\"color: #00d7ff; text-decoration-color: #00d7ff\">None</span>, <span style=\"color: #00af00; text-decoration-color: #00af00\">1</span>)              │            <span style=\"color: #00af00; text-decoration-color: #00af00\">51</span> │\n",
       "└─────────────────────────────────┴────────────────────────┴───────────────┘\n",
       "</pre>\n"
      ],
      "text/plain": [
       "┏━━━━━━━━━━━━━━━━━━━━━━━━━━━━━━━━━┳━━━━━━━━━━━━━━━━━━━━━━━━┳━━━━━━━━━━━━━━━┓\n",
       "┃\u001b[1m \u001b[0m\u001b[1mLayer (type)                   \u001b[0m\u001b[1m \u001b[0m┃\u001b[1m \u001b[0m\u001b[1mOutput Shape          \u001b[0m\u001b[1m \u001b[0m┃\u001b[1m \u001b[0m\u001b[1m      Param #\u001b[0m\u001b[1m \u001b[0m┃\n",
       "┡━━━━━━━━━━━━━━━━━━━━━━━━━━━━━━━━━╇━━━━━━━━━━━━━━━━━━━━━━━━╇━━━━━━━━━━━━━━━┩\n",
       "│ dense_15 (\u001b[38;5;33mDense\u001b[0m)                │ (\u001b[38;5;45mNone\u001b[0m, \u001b[38;5;34m50\u001b[0m)             │           \u001b[38;5;34m450\u001b[0m │\n",
       "├─────────────────────────────────┼────────────────────────┼───────────────┤\n",
       "│ dense_16 (\u001b[38;5;33mDense\u001b[0m)                │ (\u001b[38;5;45mNone\u001b[0m, \u001b[38;5;34m50\u001b[0m)             │         \u001b[38;5;34m2,550\u001b[0m │\n",
       "├─────────────────────────────────┼────────────────────────┼───────────────┤\n",
       "│ dense_17 (\u001b[38;5;33mDense\u001b[0m)                │ (\u001b[38;5;45mNone\u001b[0m, \u001b[38;5;34m50\u001b[0m)             │         \u001b[38;5;34m2,550\u001b[0m │\n",
       "├─────────────────────────────────┼────────────────────────┼───────────────┤\n",
       "│ dense_18 (\u001b[38;5;33mDense\u001b[0m)                │ (\u001b[38;5;45mNone\u001b[0m, \u001b[38;5;34m50\u001b[0m)             │         \u001b[38;5;34m2,550\u001b[0m │\n",
       "├─────────────────────────────────┼────────────────────────┼───────────────┤\n",
       "│ dense_19 (\u001b[38;5;33mDense\u001b[0m)                │ (\u001b[38;5;45mNone\u001b[0m, \u001b[38;5;34m50\u001b[0m)             │         \u001b[38;5;34m2,550\u001b[0m │\n",
       "├─────────────────────────────────┼────────────────────────┼───────────────┤\n",
       "│ dense_20 (\u001b[38;5;33mDense\u001b[0m)                │ (\u001b[38;5;45mNone\u001b[0m, \u001b[38;5;34m1\u001b[0m)              │            \u001b[38;5;34m51\u001b[0m │\n",
       "└─────────────────────────────────┴────────────────────────┴───────────────┘\n"
      ]
     },
     "metadata": {},
     "output_type": "display_data"
    },
    {
     "data": {
      "text/html": [
       "<pre style=\"white-space:pre;overflow-x:auto;line-height:normal;font-family:Menlo,'DejaVu Sans Mono',consolas,'Courier New',monospace\"><span style=\"font-weight: bold\"> Total params: </span><span style=\"color: #00af00; text-decoration-color: #00af00\">10,701</span> (41.80 KB)\n",
       "</pre>\n"
      ],
      "text/plain": [
       "\u001b[1m Total params: \u001b[0m\u001b[38;5;34m10,701\u001b[0m (41.80 KB)\n"
      ]
     },
     "metadata": {},
     "output_type": "display_data"
    },
    {
     "data": {
      "text/html": [
       "<pre style=\"white-space:pre;overflow-x:auto;line-height:normal;font-family:Menlo,'DejaVu Sans Mono',consolas,'Courier New',monospace\"><span style=\"font-weight: bold\"> Trainable params: </span><span style=\"color: #00af00; text-decoration-color: #00af00\">10,701</span> (41.80 KB)\n",
       "</pre>\n"
      ],
      "text/plain": [
       "\u001b[1m Trainable params: \u001b[0m\u001b[38;5;34m10,701\u001b[0m (41.80 KB)\n"
      ]
     },
     "metadata": {},
     "output_type": "display_data"
    },
    {
     "data": {
      "text/html": [
       "<pre style=\"white-space:pre;overflow-x:auto;line-height:normal;font-family:Menlo,'DejaVu Sans Mono',consolas,'Courier New',monospace\"><span style=\"font-weight: bold\"> Non-trainable params: </span><span style=\"color: #00af00; text-decoration-color: #00af00\">0</span> (0.00 B)\n",
       "</pre>\n"
      ],
      "text/plain": [
       "\u001b[1m Non-trainable params: \u001b[0m\u001b[38;5;34m0\u001b[0m (0.00 B)\n"
      ]
     },
     "metadata": {},
     "output_type": "display_data"
    },
    {
     "name": "stdout",
     "output_type": "stream",
     "text": [
      "Epoch 1/100\n",
      "29/29 - 0s - 5ms/step - loss: 21.9787 - val_loss: 33.7991\n",
      "Epoch 2/100\n",
      "29/29 - 0s - 4ms/step - loss: 21.5774 - val_loss: 31.1248\n",
      "Epoch 3/100\n",
      "29/29 - 0s - 4ms/step - loss: 21.6392 - val_loss: 31.8082\n",
      "Epoch 4/100\n",
      "29/29 - 0s - 3ms/step - loss: 21.1841 - val_loss: 33.3448\n",
      "Epoch 5/100\n",
      "29/29 - 0s - 3ms/step - loss: 21.3175 - val_loss: 38.2760\n",
      "Epoch 6/100\n",
      "29/29 - 0s - 3ms/step - loss: 21.2469 - val_loss: 33.4406\n",
      "Epoch 7/100\n",
      "29/29 - 0s - 3ms/step - loss: 21.2915 - val_loss: 31.4506\n",
      "Epoch 8/100\n",
      "29/29 - 0s - 3ms/step - loss: 20.9795 - val_loss: 32.0087\n",
      "Epoch 9/100\n",
      "29/29 - 0s - 3ms/step - loss: 21.0658 - val_loss: 31.7041\n",
      "Epoch 10/100\n",
      "29/29 - 0s - 3ms/step - loss: 21.0580 - val_loss: 30.4856\n",
      "Epoch 11/100\n",
      "29/29 - 0s - 4ms/step - loss: 21.0059 - val_loss: 39.4813\n",
      "Epoch 12/100\n",
      "29/29 - 0s - 3ms/step - loss: 21.0228 - val_loss: 32.2900\n",
      "Epoch 13/100\n",
      "29/29 - 0s - 3ms/step - loss: 20.2868 - val_loss: 31.1116\n",
      "Epoch 14/100\n",
      "29/29 - 0s - 4ms/step - loss: 20.1472 - val_loss: 33.1238\n",
      "Epoch 15/100\n",
      "29/29 - 0s - 4ms/step - loss: 21.6804 - val_loss: 36.2222\n",
      "Epoch 16/100\n",
      "29/29 - 0s - 3ms/step - loss: 20.4051 - val_loss: 34.4417\n",
      "Epoch 17/100\n",
      "29/29 - 0s - 3ms/step - loss: 20.2609 - val_loss: 37.2059\n",
      "Epoch 18/100\n",
      "29/29 - 0s - 3ms/step - loss: 20.0513 - val_loss: 31.9959\n",
      "Epoch 19/100\n",
      "29/29 - 0s - 4ms/step - loss: 19.6535 - val_loss: 32.3397\n",
      "Epoch 20/100\n",
      "29/29 - 0s - 4ms/step - loss: 19.9023 - val_loss: 34.6063\n",
      "Epoch 21/100\n",
      "29/29 - 0s - 3ms/step - loss: 19.7721 - val_loss: 30.5520\n",
      "Epoch 22/100\n",
      "29/29 - 0s - 3ms/step - loss: 19.6243 - val_loss: 35.5184\n",
      "Epoch 23/100\n",
      "29/29 - 0s - 3ms/step - loss: 19.6980 - val_loss: 33.1389\n",
      "Epoch 24/100\n",
      "29/29 - 0s - 4ms/step - loss: 19.7813 - val_loss: 33.2082\n",
      "Epoch 25/100\n",
      "29/29 - 0s - 4ms/step - loss: 19.8646 - val_loss: 34.1281\n",
      "Epoch 26/100\n",
      "29/29 - 0s - 3ms/step - loss: 19.5002 - val_loss: 33.0139\n",
      "Epoch 27/100\n",
      "29/29 - 0s - 3ms/step - loss: 19.2537 - val_loss: 31.0839\n",
      "Epoch 28/100\n",
      "29/29 - 0s - 3ms/step - loss: 19.4586 - val_loss: 33.5043\n",
      "Epoch 29/100\n",
      "29/29 - 0s - 4ms/step - loss: 19.7912 - val_loss: 33.0729\n",
      "Epoch 30/100\n",
      "29/29 - 0s - 6ms/step - loss: 19.2722 - val_loss: 31.8166\n",
      "Epoch 31/100\n",
      "29/29 - 0s - 4ms/step - loss: 20.2701 - val_loss: 33.1098\n",
      "Epoch 32/100\n",
      "29/29 - 0s - 3ms/step - loss: 19.3896 - val_loss: 30.6657\n",
      "Epoch 33/100\n",
      "29/29 - 0s - 3ms/step - loss: 19.5114 - val_loss: 30.7788\n",
      "Epoch 34/100\n",
      "29/29 - 0s - 4ms/step - loss: 19.1295 - val_loss: 30.5942\n",
      "Epoch 35/100\n",
      "29/29 - 0s - 4ms/step - loss: 19.0075 - val_loss: 32.4160\n",
      "Epoch 36/100\n",
      "29/29 - 0s - 3ms/step - loss: 18.9036 - val_loss: 30.0535\n",
      "Epoch 37/100\n",
      "29/29 - 0s - 4ms/step - loss: 18.9307 - val_loss: 29.9554\n",
      "Epoch 38/100\n",
      "29/29 - 0s - 4ms/step - loss: 19.0903 - val_loss: 31.4343\n",
      "Epoch 39/100\n",
      "29/29 - 0s - 3ms/step - loss: 18.9922 - val_loss: 31.0603\n",
      "Epoch 40/100\n",
      "29/29 - 0s - 3ms/step - loss: 18.6696 - val_loss: 29.6665\n",
      "Epoch 41/100\n",
      "29/29 - 0s - 3ms/step - loss: 18.6678 - val_loss: 33.8202\n",
      "Epoch 42/100\n",
      "29/29 - 0s - 4ms/step - loss: 18.4211 - val_loss: 30.6542\n",
      "Epoch 43/100\n",
      "29/29 - 0s - 4ms/step - loss: 18.6604 - val_loss: 29.5656\n",
      "Epoch 44/100\n",
      "29/29 - 0s - 4ms/step - loss: 18.4586 - val_loss: 33.1620\n",
      "Epoch 45/100\n",
      "29/29 - 0s - 4ms/step - loss: 18.2456 - val_loss: 30.9203\n",
      "Epoch 46/100\n",
      "29/29 - 0s - 4ms/step - loss: 18.6022 - val_loss: 29.9518\n",
      "Epoch 47/100\n",
      "29/29 - 0s - 4ms/step - loss: 18.9367 - val_loss: 31.9161\n",
      "Epoch 48/100\n",
      "29/29 - 0s - 3ms/step - loss: 18.8187 - val_loss: 29.8293\n",
      "Epoch 49/100\n",
      "29/29 - 0s - 3ms/step - loss: 19.0859 - val_loss: 29.6305\n",
      "Epoch 50/100\n",
      "29/29 - 0s - 4ms/step - loss: 18.8260 - val_loss: 31.8040\n",
      "Epoch 51/100\n",
      "29/29 - 0s - 4ms/step - loss: 18.5886 - val_loss: 28.7274\n",
      "Epoch 52/100\n",
      "29/29 - 0s - 3ms/step - loss: 18.1093 - val_loss: 30.6247\n",
      "Epoch 53/100\n",
      "29/29 - 0s - 3ms/step - loss: 18.2423 - val_loss: 29.6897\n",
      "Epoch 54/100\n",
      "29/29 - 0s - 3ms/step - loss: 18.0572 - val_loss: 29.9004\n",
      "Epoch 55/100\n",
      "29/29 - 0s - 4ms/step - loss: 17.9211 - val_loss: 32.6782\n",
      "Epoch 56/100\n",
      "29/29 - 0s - 3ms/step - loss: 18.4563 - val_loss: 28.8910\n",
      "Epoch 57/100\n",
      "29/29 - 0s - 3ms/step - loss: 18.2424 - val_loss: 29.0705\n",
      "Epoch 58/100\n",
      "29/29 - 0s - 3ms/step - loss: 17.5305 - val_loss: 30.5144\n",
      "Epoch 59/100\n",
      "29/29 - 0s - 3ms/step - loss: 17.7668 - val_loss: 32.1002\n",
      "Epoch 60/100\n",
      "29/29 - 0s - 3ms/step - loss: 17.5623 - val_loss: 28.3704\n",
      "Epoch 61/100\n",
      "29/29 - 0s - 3ms/step - loss: 17.5147 - val_loss: 32.4610\n",
      "Epoch 62/100\n",
      "29/29 - 0s - 3ms/step - loss: 17.9178 - val_loss: 29.6854\n",
      "Epoch 63/100\n",
      "29/29 - 0s - 3ms/step - loss: 17.5126 - val_loss: 32.6063\n",
      "Epoch 64/100\n",
      "29/29 - 0s - 3ms/step - loss: 17.5603 - val_loss: 32.1155\n",
      "Epoch 65/100\n",
      "29/29 - 0s - 3ms/step - loss: 17.8049 - val_loss: 31.2228\n",
      "Epoch 66/100\n",
      "29/29 - 0s - 3ms/step - loss: 17.4120 - val_loss: 28.5649\n",
      "Epoch 67/100\n",
      "29/29 - 0s - 3ms/step - loss: 17.5571 - val_loss: 28.9092\n",
      "Epoch 68/100\n",
      "29/29 - 0s - 3ms/step - loss: 17.3781 - val_loss: 30.1280\n",
      "Epoch 69/100\n",
      "29/29 - 0s - 3ms/step - loss: 17.5798 - val_loss: 27.4265\n",
      "Epoch 70/100\n",
      "29/29 - 0s - 3ms/step - loss: 17.5117 - val_loss: 30.6813\n",
      "Epoch 71/100\n",
      "29/29 - 0s - 3ms/step - loss: 17.2357 - val_loss: 30.4634\n",
      "Epoch 72/100\n",
      "29/29 - 0s - 3ms/step - loss: 17.2338 - val_loss: 32.5053\n",
      "Epoch 73/100\n",
      "29/29 - 0s - 3ms/step - loss: 17.3350 - val_loss: 31.9752\n",
      "Epoch 74/100\n",
      "29/29 - 0s - 3ms/step - loss: 17.0746 - val_loss: 29.7878\n",
      "Epoch 75/100\n",
      "29/29 - 0s - 3ms/step - loss: 16.8223 - val_loss: 27.9136\n",
      "Epoch 76/100\n",
      "29/29 - 0s - 3ms/step - loss: 17.6220 - val_loss: 31.8459\n",
      "Epoch 77/100\n",
      "29/29 - 0s - 4ms/step - loss: 17.0856 - val_loss: 27.7276\n",
      "Epoch 78/100\n",
      "29/29 - 0s - 3ms/step - loss: 17.2269 - val_loss: 29.8055\n",
      "Epoch 79/100\n",
      "29/29 - 0s - 3ms/step - loss: 16.8531 - val_loss: 32.9452\n",
      "Epoch 80/100\n",
      "29/29 - 0s - 3ms/step - loss: 16.8832 - val_loss: 29.7498\n",
      "Epoch 81/100\n",
      "29/29 - 0s - 3ms/step - loss: 16.8182 - val_loss: 28.1949\n",
      "Epoch 82/100\n",
      "29/29 - 0s - 3ms/step - loss: 16.4469 - val_loss: 29.8545\n",
      "Epoch 83/100\n",
      "29/29 - 0s - 3ms/step - loss: 16.6343 - val_loss: 29.4753\n",
      "Epoch 84/100\n",
      "29/29 - 0s - 4ms/step - loss: 16.3700 - val_loss: 27.6162\n",
      "Epoch 85/100\n",
      "29/29 - 0s - 4ms/step - loss: 16.6426 - val_loss: 27.2468\n",
      "Epoch 86/100\n",
      "29/29 - 0s - 4ms/step - loss: 16.8950 - val_loss: 30.0244\n",
      "Epoch 87/100\n",
      "29/29 - 0s - 3ms/step - loss: 16.6913 - val_loss: 28.7441\n",
      "Epoch 88/100\n",
      "29/29 - 0s - 3ms/step - loss: 16.4238 - val_loss: 29.1155\n",
      "Epoch 89/100\n",
      "29/29 - 0s - 3ms/step - loss: 16.3531 - val_loss: 29.1606\n",
      "Epoch 90/100\n",
      "29/29 - 0s - 3ms/step - loss: 16.9288 - val_loss: 28.3479\n",
      "Epoch 91/100\n",
      "29/29 - 0s - 3ms/step - loss: 17.1480 - val_loss: 27.9973\n",
      "Epoch 92/100\n",
      "29/29 - 0s - 3ms/step - loss: 16.5149 - val_loss: 30.7861\n",
      "Epoch 93/100\n",
      "29/29 - 0s - 3ms/step - loss: 16.9828 - val_loss: 27.7367\n",
      "Epoch 94/100\n",
      "29/29 - 0s - 3ms/step - loss: 16.6844 - val_loss: 31.4082\n",
      "Epoch 95/100\n",
      "29/29 - 0s - 3ms/step - loss: 16.4305 - val_loss: 28.4259\n",
      "Epoch 96/100\n",
      "29/29 - 0s - 4ms/step - loss: 16.3302 - val_loss: 28.2438\n",
      "Epoch 97/100\n",
      "29/29 - 0s - 3ms/step - loss: 16.2636 - val_loss: 29.2172\n",
      "Epoch 98/100\n",
      "29/29 - 0s - 3ms/step - loss: 15.8731 - val_loss: 29.3387\n",
      "Epoch 99/100\n",
      "29/29 - 0s - 3ms/step - loss: 15.9057 - val_loss: 28.7951\n",
      "Epoch 100/100\n",
      "29/29 - 0s - 3ms/step - loss: 16.1007 - val_loss: 30.4908\n"
     ]
    },
    {
     "data": {
      "text/plain": [
       "<keras.src.callbacks.history.History at 0x1f19c360d60>"
      ]
     },
     "execution_count": 26,
     "metadata": {},
     "output_type": "execute_result"
    }
   ],
   "source": [
    "# Write your code here\n",
    "model2 = regression_model2()\n",
    "model2.summary()\n",
    "\n",
    "model.fit(predictors_norm, target, validation_split=0.1, epochs=100, verbose=2)"
   ]
  },
  {
   "cell_type": "markdown",
   "metadata": {},
   "source": [
    "Double-click <b>here</b> for the solution.\n",
    "\n",
    "<!-- Your answer is below:\n",
    "# build the model\n",
    "model = regression_model()\n",
    "model.fit(predictors_norm, target, validation_split=0.1, epochs=100, verbose=2)\n",
    "\n",
    "-->\n"
   ]
  },
  {
   "cell_type": "markdown",
   "metadata": {},
   "source": [
    "Based on the results, we notice that:\n",
    "\n",
    "- Adding more hidden layers to the model increases its capacity to learn and represent complex relationships within the data. This allows the model to better identify, as a result, the model becomes more effective at fitting the training data and potentially improving its predictions.\n",
    "- By reducing the proportion of data set aside for validation and using a larger portion for training, the model has access to more examples to learn from. This additional training data helps the model improve its understanding of the underlying trends, which can lead to better overall performance.  \n"
   ]
  },
  {
   "cell_type": "markdown",
   "metadata": {},
   "source": [
    "### Thank you for completing this lab!\n",
    "\n",
    "This notebook was created by [Alex Aklson](https://www.linkedin.com/in/aklson/). I hope you found this lab interesting and educational. Feel free to contact me if you have any questions!\n"
   ]
  },
  {
   "cell_type": "markdown",
   "metadata": {},
   "source": [
    "<!--\n",
    "## Change Log\n",
    "\n",
    "|  Date (YYYY-MM-DD) |  Version | Changed By  |  Change Description |\n",
    "|---|---|---|---|\n",
    "| 2024-11-20  | 3.0  | Aman  |  Updated the library versions to current |\n",
    "| 2020-09-21  | 2.0  | Srishti  |  Migrated Lab to Markdown and added to course repo in GitLab |\n",
    "\n",
    "\n",
    "\n",
    "<hr>\n",
    "\n",
    "## <h3 align=\"center\"> © IBM Corporation. All rights reserved. <h3/>\n"
   ]
  },
  {
   "cell_type": "markdown",
   "metadata": {},
   "source": [
    "## <h3 align=\"center\"> &#169; IBM Corporation. All rights reserved. <h3/>\n",
    "\n"
   ]
  }
 ],
 "metadata": {
  "kernelspec": {
   "display_name": "pytorch",
   "language": "python",
   "name": "python3"
  },
  "language_info": {
   "codemirror_mode": {
    "name": "ipython",
    "version": 3
   },
   "file_extension": ".py",
   "mimetype": "text/x-python",
   "name": "python",
   "nbconvert_exporter": "python",
   "pygments_lexer": "ipython3",
   "version": "3.10.16"
  },
  "prev_pub_hash": "7798ec66287dc6e3a0a8d4fcb1fcbe001f8ce637f2f460e6aa188f14bb0f7d79"
 },
 "nbformat": 4,
 "nbformat_minor": 4
}
