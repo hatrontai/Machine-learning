{
 "cells": [
  {
   "cell_type": "markdown",
   "id": "b484cf7e-4ba9-45bc-8ba4-7b44c71564b5",
   "metadata": {},
   "source": [
    "<a href=\"https://cognitiveclass.ai\"><img src=\"https://cf-courses-data.s3.us.cloud-object-storage.appdomain.cloud/IBMDeveloperSkillsNetwork-DL0101EN-SkillsNetwork/images/IDSN-logo.png\" width=\"400\"> </a>\n",
    "\n",
    "# Classification Models with Keras\n",
    "\n",
    "Estimated time needed: **30** mins\n"
   ]
  },
  {
   "cell_type": "markdown",
   "id": "bfd1e563-7fb0-447b-a59f-983456101234",
   "metadata": {},
   "source": [
    "## Introduction\n"
   ]
  },
  {
   "cell_type": "markdown",
   "id": "a7ef938d-46f9-49ab-be00-20f1d9237b36",
   "metadata": {},
   "source": [
    "In this lab, we will learn how to use the Keras library to build models for classificaiton problems. We will use the popular MNIST dataset, a dataset of images, for a change. \n",
    "\n",
    "The <strong>MNIST database</strong>, short for Modified National Institute of Standards and Technology database, is a large database of handwritten digits that is commonly used for training various image processing systems. The database is also widely used for training and testing in the field of machine learning.\n",
    "    \n",
    "The MNIST database contains 60,000 training images and 10,000 testing images of digits written by high school students and employees of the United States Census Bureau.\n",
    "\n",
    "Also, this way, you will get to compare how conventional neural networks compare to convolutional neural networks, that we will build in the next module.\n"
   ]
  },
  {
   "cell_type": "markdown",
   "id": "a7443067-87b7-4d08-93da-cb2be907a0aa",
   "metadata": {},
   "source": [
    "## Objectives for this Notebook    \n",
    "* Use the MNIST database for training various image processing systems\n",
    "* Build a neural network\n",
    "* Train and test the network\n",
    "\n",
    "<p>This link will be used by your peers to assess your project. In your web app, your peers will be able to upload an image, which will then be classified using your custom classifier you connected to the web app. Your project will be graded by how accurately your app can classify <b>Fire</b>, <b>Smoke</b> and <b>Neutral (No Fire or Smoke)</b>.<p>\n"
   ]
  },
  {
   "cell_type": "markdown",
   "id": "ece5a3a7-7e8e-44ac-86af-34298c90f84e",
   "metadata": {},
   "source": [
    "## Table of Contents\n",
    "\n",
    "<div class=\"alert alert-block alert-info\" style=\"margin-top: 20px\">\n",
    "\n",
    "<font size = 3>\n",
    "\n",
    "1. <a href=\"#item312\">Import Keras and Packages</a>      \n",
    "2. <a href=\"#item322\">Build a Neural Network</a>     \n",
    "3. <a href=\"#item332\">Train and Test the Network</a>     \n",
    "\n",
    "</font>\n",
    "</div>\n"
   ]
  },
  {
   "cell_type": "markdown",
   "id": "9688fc02-1851-49db-97c7-d1363e19859b",
   "metadata": {},
   "source": [
    "<a id='item312'></a>\n"
   ]
  },
  {
   "cell_type": "markdown",
   "id": "318fec66-1d6a-44c3-a444-ccb74fdf06f0",
   "metadata": {},
   "source": [
    "## Import Keras and Packages\n"
   ]
  },
  {
   "cell_type": "markdown",
   "id": "da715796-30d8-4be7-9ba7-bc92091b7fcb",
   "metadata": {},
   "source": [
    "Let's start by importing Keras and some of its modules.\n"
   ]
  },
  {
   "cell_type": "markdown",
   "id": "1979d9d6-d223-44dc-bc75-3d037a933d01",
   "metadata": {},
   "source": [
    "The following required libraries are __not__ pre-installed in the Skills Network Labs environment. __You will need to run the following cell__ to install them:\n"
   ]
  },
  {
   "cell_type": "code",
   "execution_count": null,
   "id": "b6c7db61-0e5c-4192-9ef0-cc51ecfff762",
   "metadata": {},
   "outputs": [],
   "source": [
    "# !pip install tensorflow_cpu==2.18.0\n",
    "# !pip install matplotlib==3.9.2\n",
    "\n",
    "# print(\"==== All required libraries are installed =====\")"
   ]
  },
  {
   "cell_type": "markdown",
   "id": "bbd3f921-2717-4697-8715-0c5d9b5c41b6",
   "metadata": {},
   "source": [
    "### Import the libraries. \n",
    "There might be some warning messages related to floating point round off errors and lack of GPU and other compiler related options. You can ignore these warnings and proceed.\n"
   ]
  },
  {
   "cell_type": "code",
   "execution_count": 1,
   "id": "b788dee0-58b8-4579-8aa8-dfff86e512ee",
   "metadata": {},
   "outputs": [],
   "source": [
    "import keras\n",
    "\n",
    "from keras.models import Sequential\n",
    "from keras.layers import Dense\n",
    "from keras.layers import Input\n",
    "from keras.utils import to_categorical"
   ]
  },
  {
   "cell_type": "markdown",
   "id": "cbab7f51-e03f-49b1-a29f-661233b98eea",
   "metadata": {},
   "source": [
    "Since we are dealing we images, let's also import the Matplotlib scripting layer in order to view the images.\n"
   ]
  },
  {
   "cell_type": "code",
   "execution_count": 2,
   "id": "a4185f2f-432d-46ec-b5d9-2021c0e86750",
   "metadata": {},
   "outputs": [],
   "source": [
    "import matplotlib.pyplot as plt"
   ]
  },
  {
   "cell_type": "markdown",
   "id": "10824092-4009-478b-8805-8ce080974e47",
   "metadata": {},
   "source": [
    "The Keras library conveniently includes the MNIST dataset as part of its API. You can check other datasets within the Keras library [here](https://keras.io/datasets/). \n",
    "\n",
    "So, let's load the MNIST dataset from the Keras library. The dataset is readily divided into a training set and a test set.\n"
   ]
  },
  {
   "cell_type": "code",
   "execution_count": 9,
   "id": "761677c7-3cfa-42a7-8788-dbb2d6d06338",
   "metadata": {},
   "outputs": [
    {
     "data": {
      "text/plain": [
       "np.uint8(5)"
      ]
     },
     "execution_count": 9,
     "metadata": {},
     "output_type": "execute_result"
    }
   ],
   "source": [
    "# import the data\n",
    "from keras.datasets import mnist\n",
    "\n",
    "# read the data\n",
    "(X_train, y_train), (X_test, y_test) = mnist.load_data()\n",
    "\n",
    "y_train[0]"
   ]
  },
  {
   "cell_type": "markdown",
   "id": "c0304053-88ca-4403-9170-ba31ad97ae64",
   "metadata": {},
   "source": [
    "Let's confirm the number of images in each set. According to the dataset's documentation, we should have 60000 images in X_train and 10000 images in the X_test.\n"
   ]
  },
  {
   "cell_type": "code",
   "execution_count": null,
   "id": "07954986-a1b5-4be4-b2ed-462837d275eb",
   "metadata": {},
   "outputs": [
    {
     "data": {
      "text/plain": [
       "(60000, 28, 28)"
      ]
     },
     "execution_count": 4,
     "metadata": {},
     "output_type": "execute_result"
    }
   ],
   "source": [
    "X_train.shape"
   ]
  },
  {
   "cell_type": "markdown",
   "id": "98d8dc67-d3bf-4925-a9f3-375e9f4039a0",
   "metadata": {},
   "source": [
    "The first number in the output tuple is the number of images, and the other two numbers are the size of the images in datset. So, each image is 28 pixels by 28 pixels.\n"
   ]
  },
  {
   "cell_type": "markdown",
   "id": "ef5bd0db-badb-49e4-9b7f-29ea78df388d",
   "metadata": {},
   "source": [
    "Let's visualize the first image in the training set using Matplotlib's scripting layer.\n"
   ]
  },
  {
   "cell_type": "code",
   "execution_count": 5,
   "id": "76c67458-4cbb-4ad1-9ecf-f5f7b4c24900",
   "metadata": {},
   "outputs": [
    {
     "data": {
      "text/plain": [
       "<matplotlib.image.AxesImage at 0x183c6f1d5d0>"
      ]
     },
     "execution_count": 5,
     "metadata": {},
     "output_type": "execute_result"
    },
    {
     "data": {
      "image/png": "[encoded data removed]",
      "text/plain": [
       "<Figure size 640x480 with 1 Axes>"
      ]
     },
     "metadata": {},
     "output_type": "display_data"
    }
   ],
   "source": [
    "plt.imshow(X_train[0])"
   ]
  },
  {
   "cell_type": "markdown",
   "id": "2ed1741a-4a9a-4195-a894-ba9cc8356ff0",
   "metadata": {},
   "source": [
    "With conventional neural networks, we cannot feed in the image as input as is. So we need to flatten the images into one-dimensional vectors, each of size 1 x (28 x 28) = 1 x 784.\n"
   ]
  },
  {
   "cell_type": "code",
   "execution_count": 14,
   "id": "b81d638c-b8c0-4f0e-92c5-ff77bbdf523f",
   "metadata": {},
   "outputs": [
    {
     "data": {
      "text/plain": [
       "((60000, 784), (10000, 784))"
      ]
     },
     "execution_count": 14,
     "metadata": {},
     "output_type": "execute_result"
    }
   ],
   "source": [
    "# flatten images into one-dimensional vector\n",
    "\n",
    "num_pixels = X_train.shape[1] * X_train.shape[2] # find size of one-dimensional vector\n",
    "\n",
    "X_train = X_train.reshape(X_train.shape[0], num_pixels).astype('float32') # flatten training images\n",
    "X_test = X_test.reshape(X_test.shape[0], num_pixels).astype('float32') # flatten test images\n",
    "\n",
    "X_train.shape, X_test.shape"
   ]
  },
  {
   "cell_type": "markdown",
   "id": "2463b556-b1e8-48b8-8da7-07ad0a16b271",
   "metadata": {},
   "source": [
    "Since pixel values can range from 0 to 255, let's normalize the vectors to be between 0 and 1.\n"
   ]
  },
  {
   "cell_type": "code",
   "execution_count": 7,
   "id": "d5d5a609-92c9-4698-aa74-a4034e23b668",
   "metadata": {},
   "outputs": [],
   "source": [
    "# normalize inputs from 0-255 to 0-1\n",
    "X_train = X_train / 255\n",
    "X_test = X_test / 255"
   ]
  },
  {
   "cell_type": "markdown",
   "id": "923bdaec-f3b9-4a23-a793-87aa3c1e6be0",
   "metadata": {},
   "source": [
    "Finally, before we start building our model, remember that for classification we need to divide our target variable into categories. We use the to_categorical function from the Keras Utilities package.\n"
   ]
  },
  {
   "cell_type": "code",
   "execution_count": 10,
   "id": "7f893ebc-ad6b-48f0-a1c2-a0cc5fe28854",
   "metadata": {},
   "outputs": [
    {
     "data": {
      "text/plain": [
       "(10, array([0., 0., 0., 0., 0., 1., 0., 0., 0., 0.]))"
      ]
     },
     "execution_count": 10,
     "metadata": {},
     "output_type": "execute_result"
    }
   ],
   "source": [
    "# one hot encode outputs\n",
    "y_train = to_categorical(y_train)\n",
    "y_test = to_categorical(y_test)\n",
    "\n",
    "num_classes = y_test.shape[1]\n",
    "num_classes, y_train[0]"
   ]
  },
  {
   "cell_type": "markdown",
   "id": "f7596759-cad7-43c9-b5f9-5e3bbbf93382",
   "metadata": {},
   "source": [
    "<a id='item322'></a>\n"
   ]
  },
  {
   "cell_type": "markdown",
   "id": "e79f2b6c-f776-4d13-983b-ec7621c68c58",
   "metadata": {},
   "source": [
    "## Build a Neural Network\n"
   ]
  },
  {
   "cell_type": "code",
   "execution_count": 11,
   "id": "e1465205-de7e-4459-b6af-f746440dece2",
   "metadata": {},
   "outputs": [],
   "source": [
    "# define classification model\n",
    "def classification_model():\n",
    "    # create model\n",
    "    \n",
    "    model = Sequential()\n",
    "    model.add(Input(shape=(num_pixels,))) # input layer\n",
    "    model.add(Dense(num_pixels, activation='relu')) # hidden layer\n",
    "    model.add(Dense(100, activation='relu'))       # hidden layer\n",
    "    model.add(Dense(num_classes, activation='softmax')) # output layer, softmax activation for classification \n",
    "    \n",
    "    \n",
    "    # compile model\n",
    "    model.compile(optimizer='adam', loss='categorical_crossentropy', metrics=['accuracy'])\n",
    "    return model"
   ]
  },
  {
   "cell_type": "markdown",
   "id": "544a99b5-c40b-4154-a025-d1f88fedc3a5",
   "metadata": {},
   "source": [
    "<a id='item332'></a>\n"
   ]
  },
  {
   "cell_type": "markdown",
   "id": "54838f35-838b-48e5-87f4-b5cb6ec64c6e",
   "metadata": {},
   "source": [
    "## Train and Test the Network\n"
   ]
  },
  {
   "cell_type": "code",
   "execution_count": 15,
   "id": "bbf10e2d-1857-4e4d-a88d-97325a975396",
   "metadata": {},
   "outputs": [
    {
     "name": "stdout",
     "output_type": "stream",
     "text": [
      "Epoch 1/10\n",
      "1500/1500 - 10s - 7ms/step - accuracy: 0.7821 - loss: 1.1873 - val_accuracy: 0.8958 - val_loss: 0.4295\n",
      "Epoch 2/10\n",
      "1500/1500 - 9s - 6ms/step - accuracy: 0.9134 - loss: 0.3490 - val_accuracy: 0.9264 - val_loss: 0.3043\n",
      "Epoch 3/10\n",
      "1500/1500 - 9s - 6ms/step - accuracy: 0.9475 - loss: 0.2141 - val_accuracy: 0.9572 - val_loss: 0.1847\n",
      "Epoch 4/10\n",
      "1500/1500 - 11s - 7ms/step - accuracy: 0.9594 - loss: 0.1517 - val_accuracy: 0.9565 - val_loss: 0.1616\n",
      "Epoch 5/10\n",
      "1500/1500 - 10s - 6ms/step - accuracy: 0.9631 - loss: 0.1409 - val_accuracy: 0.9599 - val_loss: 0.1647\n",
      "Epoch 6/10\n",
      "1500/1500 - 9s - 6ms/step - accuracy: 0.9686 - loss: 0.1225 - val_accuracy: 0.9632 - val_loss: 0.1538\n",
      "Epoch 7/10\n",
      "1500/1500 - 10s - 6ms/step - accuracy: 0.9715 - loss: 0.1120 - val_accuracy: 0.9594 - val_loss: 0.1980\n",
      "Epoch 8/10\n",
      "1500/1500 - 10s - 7ms/step - accuracy: 0.9749 - loss: 0.1018 - val_accuracy: 0.9644 - val_loss: 0.1817\n",
      "Epoch 9/10\n",
      "1500/1500 - 10s - 7ms/step - accuracy: 0.9769 - loss: 0.0966 - val_accuracy: 0.9697 - val_loss: 0.1506\n",
      "Epoch 10/10\n",
      "1500/1500 - 11s - 7ms/step - accuracy: 0.9793 - loss: 0.0897 - val_accuracy: 0.9712 - val_loss: 0.1579\n"
     ]
    }
   ],
   "source": [
    "# build the model\n",
    "model = classification_model()\n",
    "\n",
    "# fit the model\n",
    "model.fit(X_train, y_train, validation_split=0.2, epochs=10, verbose=2)\n",
    "\n",
    "# evaluate the model\n",
    "scores = model.evaluate(X_test, y_test, verbose=0)"
   ]
  },
  {
   "cell_type": "markdown",
   "id": "8c7c992e-b745-4cb5-9023-5d345d6637ea",
   "metadata": {},
   "source": [
    "Let's print the accuracy and the corresponding error.\n"
   ]
  },
  {
   "cell_type": "code",
   "execution_count": 16,
   "id": "860b9210-e8b4-4582-b810-62c888a42c9f",
   "metadata": {},
   "outputs": [
    {
     "name": "stdout",
     "output_type": "stream",
     "text": [
      "Accuracy: 0.9699000120162964% \n",
      " Error: 0.030099987983703613\n"
     ]
    }
   ],
   "source": [
    "print('Accuracy: {}% \\n Error: {}'.format(scores[1], 1 - scores[1]))        "
   ]
  },
  {
   "cell_type": "markdown",
   "id": "d581c496-12dc-484c-a2f9-3031858bed21",
   "metadata": {},
   "source": [
    "Just running 10 epochs could actually take over 20 minutes. But enjoy the results as they are getting generated.\n"
   ]
  },
  {
   "cell_type": "markdown",
   "id": "0f298c6e-fa19-4c4a-a969-da433b78a47c",
   "metadata": {},
   "source": [
    "Sometimes, you cannot afford to retrain your model everytime you want to use it, especially if you are limited on computational resources and training your model can take a long time. Therefore, with the Keras library, you can save your model after training. To do that, we use the save method.\n"
   ]
  },
  {
   "cell_type": "code",
   "execution_count": 17,
   "id": "47c89037-0af1-4eba-8f3b-626ca7b4e839",
   "metadata": {},
   "outputs": [],
   "source": [
    "model.save('classification_model.keras')"
   ]
  },
  {
   "cell_type": "markdown",
   "id": "ede36a51-3bf9-405e-8b10-3c5299013f16",
   "metadata": {},
   "source": [
    "Since our model contains multidimensional arrays of data, then models are usually saved as .keras files.\n"
   ]
  },
  {
   "cell_type": "markdown",
   "id": "ddcabe42-4671-415b-ad13-36e472fa560a",
   "metadata": {},
   "source": [
    "When you are ready to use your model again, you use the load_model function from <strong>keras.saving</strong>.\n"
   ]
  },
  {
   "cell_type": "code",
   "execution_count": 18,
   "id": "7afd729a-d9eb-4249-9fe1-9b06a3c3c19f",
   "metadata": {},
   "outputs": [],
   "source": [
    "pretrained_model = keras.saving.load_model('classification_model.keras')"
   ]
  },
  {
   "cell_type": "markdown",
   "id": "7b4babab-7275-40f4-8119-159a86a77ea0",
   "metadata": {},
   "source": [
    "### Thank you for completing this lab!\n",
    "\n",
    "This notebook was created by [Alex Aklson](https://www.linkedin.com/in/aklson/). I hope you found this lab interesting and educational. Feel free to contact me if you have any questions!\n"
   ]
  },
  {
   "cell_type": "markdown",
   "id": "1eccc3ea-05de-4bbd-9114-edb8133fb5ba",
   "metadata": {},
   "source": [
    "<!--\n",
    "## Change Log\n",
    "\n",
    "|  Date (YYYY-MM-DD) |  Version | Changed By  |  Change Description |\n",
    "|---|---|---|---|\n",
    "| 2024-11-20  | 3.0  |   Aman   |  Updated the library versions to current |\n",
    "| 2020-09-21  | 2.0  | Srishti  |  Migrated Lab to Markdown and added to course repo in GitLab |\n",
    "\n",
    "\n",
    "\n",
    "<hr>\n",
    "\n",
    "## <h3 align=\"center\"> © IBM Corporation. All rights reserved. <h3/>\n"
   ]
  },
  {
   "cell_type": "markdown",
   "id": "4f0df721-8456-46c2-a8de-52cc05a43aec",
   "metadata": {},
   "source": [
    "<hr>\n",
    "\n",
    "Copyright &copy; [IBM Developer Skills Network](https://cognitiveclass.ai/?utm_source=bducopyrightlink&utm_medium=dswb&utm_campaign=bdu). This notebook and its source code are released under the terms of the [MIT License](https://opensource.org/license/mit).\n"
   ]
  },
  {
   "cell_type": "code",
   "execution_count": null,
   "id": "fe42e564-20e4-477d-9f1c-6d934111f905",
   "metadata": {},
   "outputs": [],
   "source": []
  }
 ],
 "metadata": {
  "kernelspec": {
   "display_name": "pytorch",
   "language": "python",
   "name": "python3"
  },
  "language_info": {
   "codemirror_mode": {
    "name": "ipython",
    "version": 3
   },
   "file_extension": ".py",
   "mimetype": "text/x-python",
   "name": "python",
   "nbconvert_exporter": "python",
   "pygments_lexer": "ipython3",
   "version": "3.10.16"
  },
  "prev_pub_hash": "229581acd41911cb4a2dc74a1695a1bc8e6a6113faec3c2b1f13ce38ec306842"
 },
 "nbformat": 4,
 "nbformat_minor": 4
}
